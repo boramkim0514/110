{
  "nbformat": 4,
  "nbformat_minor": 0,
  "metadata": {
    "colab": {
      "name": "Global_COVID-19_Impact.ipynb",
      "provenance": [],
      "collapsed_sections": [],
      "authorship_tag": "ABX9TyPBH4EDHTDQ/yj6k+b0Ijmu",
      "include_colab_link": true
    },
    "kernelspec": {
      "name": "python3",
      "display_name": "Python 3"
    },
    "language_info": {
      "name": "python"
    }
  },
  "cells": [
    {
      "cell_type": "markdown",
      "metadata": {
        "id": "view-in-github",
        "colab_type": "text"
      },
      "source": [
        "<a href=\"https://colab.research.google.com/github/boramkim0514/AI-Group-Project/blob/main/Global_COVID_19_Impact.ipynb\" target=\"_parent\"><img src=\"https://colab.research.google.com/assets/colab-badge.svg\" alt=\"Open In Colab\"/></a>"
      ]
    },
    {
      "cell_type": "markdown",
      "metadata": {
        "id": "BvOaL8Gwqo2n"
      },
      "source": [
        "프레임워크 구축"
      ]
    },
    {
      "cell_type": "code",
      "metadata": {
        "id": "EMH08x2P6-GC"
      },
      "source": [
        "import matplotlib.pyplot as plt\n",
        "import pandas as pd"
      ],
      "execution_count": 3,
      "outputs": []
    },
    {
      "cell_type": "markdown",
      "metadata": {
        "id": "RPiGRnVy63IN"
      },
      "source": [
        "Load Data"
      ]
    },
    {
      "cell_type": "code",
      "metadata": {
        "colab": {
          "base_uri": "https://localhost:8080/",
          "height": 1000
        },
        "id": "pJLOWnvb7ECE",
        "outputId": "5a51fd83-3b8c-40b9-8034-2c68e5c9be42"
      },
      "source": [
        "df = pd.read_csv(\"/content/covid_19_clean_complete.csv\")\n",
        "df.head(30)"
      ],
      "execution_count": 4,
      "outputs": [
        {
          "output_type": "execute_result",
          "data": {
            "text/html": [
              "<div>\n",
              "<style scoped>\n",
              "    .dataframe tbody tr th:only-of-type {\n",
              "        vertical-align: middle;\n",
              "    }\n",
              "\n",
              "    .dataframe tbody tr th {\n",
              "        vertical-align: top;\n",
              "    }\n",
              "\n",
              "    .dataframe thead th {\n",
              "        text-align: right;\n",
              "    }\n",
              "</style>\n",
              "<table border=\"1\" class=\"dataframe\">\n",
              "  <thead>\n",
              "    <tr style=\"text-align: right;\">\n",
              "      <th></th>\n",
              "      <th>Province/State</th>\n",
              "      <th>Country/Region</th>\n",
              "      <th>Lat</th>\n",
              "      <th>Long</th>\n",
              "      <th>Date</th>\n",
              "      <th>Confirmed</th>\n",
              "      <th>Deaths</th>\n",
              "      <th>Recovered</th>\n",
              "      <th>Active</th>\n",
              "      <th>WHO Region</th>\n",
              "    </tr>\n",
              "  </thead>\n",
              "  <tbody>\n",
              "    <tr>\n",
              "      <th>0</th>\n",
              "      <td>NaN</td>\n",
              "      <td>Afghanistan</td>\n",
              "      <td>33.939110</td>\n",
              "      <td>67.709953</td>\n",
              "      <td>2020-01-22</td>\n",
              "      <td>0.0</td>\n",
              "      <td>0.0</td>\n",
              "      <td>0.0</td>\n",
              "      <td>0.0</td>\n",
              "      <td>Eastern Mediterranean</td>\n",
              "    </tr>\n",
              "    <tr>\n",
              "      <th>1</th>\n",
              "      <td>NaN</td>\n",
              "      <td>Albania</td>\n",
              "      <td>41.153300</td>\n",
              "      <td>20.168300</td>\n",
              "      <td>2020-01-22</td>\n",
              "      <td>0.0</td>\n",
              "      <td>0.0</td>\n",
              "      <td>0.0</td>\n",
              "      <td>0.0</td>\n",
              "      <td>Europe</td>\n",
              "    </tr>\n",
              "    <tr>\n",
              "      <th>2</th>\n",
              "      <td>NaN</td>\n",
              "      <td>Algeria</td>\n",
              "      <td>28.033900</td>\n",
              "      <td>1.659600</td>\n",
              "      <td>2020-01-22</td>\n",
              "      <td>0.0</td>\n",
              "      <td>0.0</td>\n",
              "      <td>0.0</td>\n",
              "      <td>0.0</td>\n",
              "      <td>Africa</td>\n",
              "    </tr>\n",
              "    <tr>\n",
              "      <th>3</th>\n",
              "      <td>NaN</td>\n",
              "      <td>Andorra</td>\n",
              "      <td>42.506300</td>\n",
              "      <td>1.521800</td>\n",
              "      <td>2020-01-22</td>\n",
              "      <td>0.0</td>\n",
              "      <td>0.0</td>\n",
              "      <td>0.0</td>\n",
              "      <td>0.0</td>\n",
              "      <td>Europe</td>\n",
              "    </tr>\n",
              "    <tr>\n",
              "      <th>4</th>\n",
              "      <td>NaN</td>\n",
              "      <td>Angola</td>\n",
              "      <td>-11.202700</td>\n",
              "      <td>17.873900</td>\n",
              "      <td>2020-01-22</td>\n",
              "      <td>0.0</td>\n",
              "      <td>0.0</td>\n",
              "      <td>0.0</td>\n",
              "      <td>0.0</td>\n",
              "      <td>Africa</td>\n",
              "    </tr>\n",
              "    <tr>\n",
              "      <th>5</th>\n",
              "      <td>NaN</td>\n",
              "      <td>Antigua and Barbuda</td>\n",
              "      <td>17.060800</td>\n",
              "      <td>-61.796400</td>\n",
              "      <td>2020-01-22</td>\n",
              "      <td>0.0</td>\n",
              "      <td>0.0</td>\n",
              "      <td>0.0</td>\n",
              "      <td>0.0</td>\n",
              "      <td>Americas</td>\n",
              "    </tr>\n",
              "    <tr>\n",
              "      <th>6</th>\n",
              "      <td>NaN</td>\n",
              "      <td>Argentina</td>\n",
              "      <td>-38.416100</td>\n",
              "      <td>-63.616700</td>\n",
              "      <td>2020-01-22</td>\n",
              "      <td>0.0</td>\n",
              "      <td>0.0</td>\n",
              "      <td>0.0</td>\n",
              "      <td>0.0</td>\n",
              "      <td>Americas</td>\n",
              "    </tr>\n",
              "    <tr>\n",
              "      <th>7</th>\n",
              "      <td>NaN</td>\n",
              "      <td>Armenia</td>\n",
              "      <td>40.069100</td>\n",
              "      <td>45.038200</td>\n",
              "      <td>2020-01-22</td>\n",
              "      <td>0.0</td>\n",
              "      <td>0.0</td>\n",
              "      <td>0.0</td>\n",
              "      <td>0.0</td>\n",
              "      <td>Europe</td>\n",
              "    </tr>\n",
              "    <tr>\n",
              "      <th>8</th>\n",
              "      <td>Australian Capital Territory</td>\n",
              "      <td>Australia</td>\n",
              "      <td>-35.473500</td>\n",
              "      <td>149.012400</td>\n",
              "      <td>2020-01-22</td>\n",
              "      <td>0.0</td>\n",
              "      <td>0.0</td>\n",
              "      <td>0.0</td>\n",
              "      <td>0.0</td>\n",
              "      <td>Western Pacific</td>\n",
              "    </tr>\n",
              "    <tr>\n",
              "      <th>9</th>\n",
              "      <td>New South Wales</td>\n",
              "      <td>Australia</td>\n",
              "      <td>-33.868800</td>\n",
              "      <td>151.209300</td>\n",
              "      <td>2020-01-22</td>\n",
              "      <td>0.0</td>\n",
              "      <td>0.0</td>\n",
              "      <td>0.0</td>\n",
              "      <td>0.0</td>\n",
              "      <td>Western Pacific</td>\n",
              "    </tr>\n",
              "    <tr>\n",
              "      <th>10</th>\n",
              "      <td>Northern Territory</td>\n",
              "      <td>Australia</td>\n",
              "      <td>-12.463400</td>\n",
              "      <td>130.845600</td>\n",
              "      <td>2020-01-22</td>\n",
              "      <td>0.0</td>\n",
              "      <td>0.0</td>\n",
              "      <td>0.0</td>\n",
              "      <td>0.0</td>\n",
              "      <td>Western Pacific</td>\n",
              "    </tr>\n",
              "    <tr>\n",
              "      <th>11</th>\n",
              "      <td>Queensland</td>\n",
              "      <td>Australia</td>\n",
              "      <td>-27.469800</td>\n",
              "      <td>153.025100</td>\n",
              "      <td>2020-01-22</td>\n",
              "      <td>0.0</td>\n",
              "      <td>0.0</td>\n",
              "      <td>0.0</td>\n",
              "      <td>0.0</td>\n",
              "      <td>Western Pacific</td>\n",
              "    </tr>\n",
              "    <tr>\n",
              "      <th>12</th>\n",
              "      <td>South Australia</td>\n",
              "      <td>Australia</td>\n",
              "      <td>-34.928500</td>\n",
              "      <td>138.600700</td>\n",
              "      <td>2020-01-22</td>\n",
              "      <td>0.0</td>\n",
              "      <td>0.0</td>\n",
              "      <td>0.0</td>\n",
              "      <td>0.0</td>\n",
              "      <td>Western Pacific</td>\n",
              "    </tr>\n",
              "    <tr>\n",
              "      <th>13</th>\n",
              "      <td>Tasmania</td>\n",
              "      <td>Australia</td>\n",
              "      <td>-42.882100</td>\n",
              "      <td>147.327200</td>\n",
              "      <td>2020-01-22</td>\n",
              "      <td>0.0</td>\n",
              "      <td>0.0</td>\n",
              "      <td>0.0</td>\n",
              "      <td>0.0</td>\n",
              "      <td>Western Pacific</td>\n",
              "    </tr>\n",
              "    <tr>\n",
              "      <th>14</th>\n",
              "      <td>Victoria</td>\n",
              "      <td>Australia</td>\n",
              "      <td>-37.813600</td>\n",
              "      <td>144.963100</td>\n",
              "      <td>2020-01-22</td>\n",
              "      <td>0.0</td>\n",
              "      <td>0.0</td>\n",
              "      <td>0.0</td>\n",
              "      <td>0.0</td>\n",
              "      <td>Western Pacific</td>\n",
              "    </tr>\n",
              "    <tr>\n",
              "      <th>15</th>\n",
              "      <td>Western Australia</td>\n",
              "      <td>Australia</td>\n",
              "      <td>-31.950500</td>\n",
              "      <td>115.860500</td>\n",
              "      <td>2020-01-22</td>\n",
              "      <td>0.0</td>\n",
              "      <td>0.0</td>\n",
              "      <td>0.0</td>\n",
              "      <td>0.0</td>\n",
              "      <td>Western Pacific</td>\n",
              "    </tr>\n",
              "    <tr>\n",
              "      <th>16</th>\n",
              "      <td>NaN</td>\n",
              "      <td>Austria</td>\n",
              "      <td>47.516200</td>\n",
              "      <td>14.550100</td>\n",
              "      <td>2020-01-22</td>\n",
              "      <td>0.0</td>\n",
              "      <td>0.0</td>\n",
              "      <td>0.0</td>\n",
              "      <td>0.0</td>\n",
              "      <td>Europe</td>\n",
              "    </tr>\n",
              "    <tr>\n",
              "      <th>17</th>\n",
              "      <td>NaN</td>\n",
              "      <td>Azerbaijan</td>\n",
              "      <td>40.143100</td>\n",
              "      <td>47.576900</td>\n",
              "      <td>2020-01-22</td>\n",
              "      <td>0.0</td>\n",
              "      <td>0.0</td>\n",
              "      <td>0.0</td>\n",
              "      <td>0.0</td>\n",
              "      <td>Europe</td>\n",
              "    </tr>\n",
              "    <tr>\n",
              "      <th>18</th>\n",
              "      <td>NaN</td>\n",
              "      <td>Bahamas</td>\n",
              "      <td>25.025885</td>\n",
              "      <td>-78.035889</td>\n",
              "      <td>2020-01-22</td>\n",
              "      <td>0.0</td>\n",
              "      <td>0.0</td>\n",
              "      <td>0.0</td>\n",
              "      <td>0.0</td>\n",
              "      <td>Americas</td>\n",
              "    </tr>\n",
              "    <tr>\n",
              "      <th>19</th>\n",
              "      <td>NaN</td>\n",
              "      <td>Bahrain</td>\n",
              "      <td>26.027500</td>\n",
              "      <td>50.550000</td>\n",
              "      <td>2020-01-22</td>\n",
              "      <td>0.0</td>\n",
              "      <td>0.0</td>\n",
              "      <td>0.0</td>\n",
              "      <td>0.0</td>\n",
              "      <td>Eastern Mediterranean</td>\n",
              "    </tr>\n",
              "    <tr>\n",
              "      <th>20</th>\n",
              "      <td>NaN</td>\n",
              "      <td>Bangladesh</td>\n",
              "      <td>23.685000</td>\n",
              "      <td>90.356300</td>\n",
              "      <td>2020-01-22</td>\n",
              "      <td>0.0</td>\n",
              "      <td>0.0</td>\n",
              "      <td>0.0</td>\n",
              "      <td>0.0</td>\n",
              "      <td>South-East Asia</td>\n",
              "    </tr>\n",
              "    <tr>\n",
              "      <th>21</th>\n",
              "      <td>NaN</td>\n",
              "      <td>Barbados</td>\n",
              "      <td>13.193900</td>\n",
              "      <td>-59.543200</td>\n",
              "      <td>2020-01-22</td>\n",
              "      <td>0.0</td>\n",
              "      <td>0.0</td>\n",
              "      <td>0.0</td>\n",
              "      <td>0.0</td>\n",
              "      <td>Americas</td>\n",
              "    </tr>\n",
              "    <tr>\n",
              "      <th>22</th>\n",
              "      <td>NaN</td>\n",
              "      <td>Belarus</td>\n",
              "      <td>53.709800</td>\n",
              "      <td>27.953400</td>\n",
              "      <td>2020-01-22</td>\n",
              "      <td>0.0</td>\n",
              "      <td>0.0</td>\n",
              "      <td>0.0</td>\n",
              "      <td>0.0</td>\n",
              "      <td>Europe</td>\n",
              "    </tr>\n",
              "    <tr>\n",
              "      <th>23</th>\n",
              "      <td>NaN</td>\n",
              "      <td>Belgium</td>\n",
              "      <td>50.833300</td>\n",
              "      <td>4.469936</td>\n",
              "      <td>2020-01-22</td>\n",
              "      <td>0.0</td>\n",
              "      <td>0.0</td>\n",
              "      <td>0.0</td>\n",
              "      <td>0.0</td>\n",
              "      <td>Europe</td>\n",
              "    </tr>\n",
              "    <tr>\n",
              "      <th>24</th>\n",
              "      <td>NaN</td>\n",
              "      <td>Benin</td>\n",
              "      <td>9.307700</td>\n",
              "      <td>2.315800</td>\n",
              "      <td>2020-01-22</td>\n",
              "      <td>0.0</td>\n",
              "      <td>0.0</td>\n",
              "      <td>0.0</td>\n",
              "      <td>0.0</td>\n",
              "      <td>Africa</td>\n",
              "    </tr>\n",
              "    <tr>\n",
              "      <th>25</th>\n",
              "      <td>NaN</td>\n",
              "      <td>Bhutan</td>\n",
              "      <td>27.514200</td>\n",
              "      <td>90.433600</td>\n",
              "      <td>2020-01-22</td>\n",
              "      <td>0.0</td>\n",
              "      <td>0.0</td>\n",
              "      <td>0.0</td>\n",
              "      <td>0.0</td>\n",
              "      <td>South-East Asia</td>\n",
              "    </tr>\n",
              "    <tr>\n",
              "      <th>26</th>\n",
              "      <td>NaN</td>\n",
              "      <td>Bolivia</td>\n",
              "      <td>-16.290200</td>\n",
              "      <td>-63.588700</td>\n",
              "      <td>2020-01-22</td>\n",
              "      <td>0.0</td>\n",
              "      <td>0.0</td>\n",
              "      <td>0.0</td>\n",
              "      <td>0.0</td>\n",
              "      <td>Americas</td>\n",
              "    </tr>\n",
              "    <tr>\n",
              "      <th>27</th>\n",
              "      <td>NaN</td>\n",
              "      <td>Bosnia and Herzegovina</td>\n",
              "      <td>43.915900</td>\n",
              "      <td>17.679100</td>\n",
              "      <td>2020-01-22</td>\n",
              "      <td>0.0</td>\n",
              "      <td>0.0</td>\n",
              "      <td>0.0</td>\n",
              "      <td>0.0</td>\n",
              "      <td>Europe</td>\n",
              "    </tr>\n",
              "    <tr>\n",
              "      <th>28</th>\n",
              "      <td>NaN</td>\n",
              "      <td>Brazil</td>\n",
              "      <td>-14.235000</td>\n",
              "      <td>-51.925300</td>\n",
              "      <td>2020-01-22</td>\n",
              "      <td>0.0</td>\n",
              "      <td>0.0</td>\n",
              "      <td>0.0</td>\n",
              "      <td>0.0</td>\n",
              "      <td>Americas</td>\n",
              "    </tr>\n",
              "    <tr>\n",
              "      <th>29</th>\n",
              "      <td>NaN</td>\n",
              "      <td>Brunei</td>\n",
              "      <td>4.535300</td>\n",
              "      <td>114.727700</td>\n",
              "      <td>2020-01-22</td>\n",
              "      <td>0.0</td>\n",
              "      <td>0.0</td>\n",
              "      <td>0.0</td>\n",
              "      <td>0.0</td>\n",
              "      <td>Western Pacific</td>\n",
              "    </tr>\n",
              "  </tbody>\n",
              "</table>\n",
              "</div>"
            ],
            "text/plain": [
              "                  Province/State  ...             WHO Region\n",
              "0                            NaN  ...  Eastern Mediterranean\n",
              "1                            NaN  ...                 Europe\n",
              "2                            NaN  ...                 Africa\n",
              "3                            NaN  ...                 Europe\n",
              "4                            NaN  ...                 Africa\n",
              "5                            NaN  ...               Americas\n",
              "6                            NaN  ...               Americas\n",
              "7                            NaN  ...                 Europe\n",
              "8   Australian Capital Territory  ...        Western Pacific\n",
              "9                New South Wales  ...        Western Pacific\n",
              "10            Northern Territory  ...        Western Pacific\n",
              "11                    Queensland  ...        Western Pacific\n",
              "12               South Australia  ...        Western Pacific\n",
              "13                      Tasmania  ...        Western Pacific\n",
              "14                      Victoria  ...        Western Pacific\n",
              "15             Western Australia  ...        Western Pacific\n",
              "16                           NaN  ...                 Europe\n",
              "17                           NaN  ...                 Europe\n",
              "18                           NaN  ...               Americas\n",
              "19                           NaN  ...  Eastern Mediterranean\n",
              "20                           NaN  ...        South-East Asia\n",
              "21                           NaN  ...               Americas\n",
              "22                           NaN  ...                 Europe\n",
              "23                           NaN  ...                 Europe\n",
              "24                           NaN  ...                 Africa\n",
              "25                           NaN  ...        South-East Asia\n",
              "26                           NaN  ...               Americas\n",
              "27                           NaN  ...                 Europe\n",
              "28                           NaN  ...               Americas\n",
              "29                           NaN  ...        Western Pacific\n",
              "\n",
              "[30 rows x 10 columns]"
            ]
          },
          "metadata": {
            "tags": []
          },
          "execution_count": 4
        }
      ]
    },
    {
      "cell_type": "markdown",
      "metadata": {
        "id": "j43YFvcqwUSp"
      },
      "source": [
        "0. 가설 세우기\n",
        "* 의료시설이 열악한 아프리카 지역의 코로나 사망자 비율이 가장 높을 것이다."
      ]
    },
    {
      "cell_type": "markdown",
      "metadata": {
        "id": "QZOhtDstF8HX"
      },
      "source": [
        "#1. 집계 목적\n",
        "보고싶은 데이터 종류 확인\n",
        "~ 별 통계 현항 집계 조회 및 시각화\n",
        " * 날짜별 \n",
        " * 나라별 \n",
        " * 지역별 "
      ]
    },
    {
      "cell_type": "code",
      "metadata": {
        "colab": {
          "base_uri": "https://localhost:8080/",
          "height": 244
        },
        "id": "2_mqNDcy-u23",
        "outputId": "702b95b2-5f5e-4eba-c6be-5e281ed0b04b"
      },
      "source": [
        "df.tail()"
      ],
      "execution_count": 5,
      "outputs": [
        {
          "output_type": "execute_result",
          "data": {
            "text/html": [
              "<div>\n",
              "<style scoped>\n",
              "    .dataframe tbody tr th:only-of-type {\n",
              "        vertical-align: middle;\n",
              "    }\n",
              "\n",
              "    .dataframe tbody tr th {\n",
              "        vertical-align: top;\n",
              "    }\n",
              "\n",
              "    .dataframe thead th {\n",
              "        text-align: right;\n",
              "    }\n",
              "</style>\n",
              "<table border=\"1\" class=\"dataframe\">\n",
              "  <thead>\n",
              "    <tr style=\"text-align: right;\">\n",
              "      <th></th>\n",
              "      <th>Province/State</th>\n",
              "      <th>Country/Region</th>\n",
              "      <th>Lat</th>\n",
              "      <th>Long</th>\n",
              "      <th>Date</th>\n",
              "      <th>Confirmed</th>\n",
              "      <th>Deaths</th>\n",
              "      <th>Recovered</th>\n",
              "      <th>Active</th>\n",
              "      <th>WHO Region</th>\n",
              "    </tr>\n",
              "  </thead>\n",
              "  <tbody>\n",
              "    <tr>\n",
              "      <th>46814</th>\n",
              "      <td>NaN</td>\n",
              "      <td>Ecuador</td>\n",
              "      <td>-1.831200</td>\n",
              "      <td>-78.183400</td>\n",
              "      <td>2020-07-19</td>\n",
              "      <td>74013.0</td>\n",
              "      <td>5313.0</td>\n",
              "      <td>31901.0</td>\n",
              "      <td>36799.0</td>\n",
              "      <td>Americas</td>\n",
              "    </tr>\n",
              "    <tr>\n",
              "      <th>46815</th>\n",
              "      <td>NaN</td>\n",
              "      <td>Egypt</td>\n",
              "      <td>26.820553</td>\n",
              "      <td>30.802498</td>\n",
              "      <td>2020-07-19</td>\n",
              "      <td>87775.0</td>\n",
              "      <td>4302.0</td>\n",
              "      <td>28380.0</td>\n",
              "      <td>55093.0</td>\n",
              "      <td>Eastern Mediterranean</td>\n",
              "    </tr>\n",
              "    <tr>\n",
              "      <th>46816</th>\n",
              "      <td>NaN</td>\n",
              "      <td>El Salvador</td>\n",
              "      <td>13.794200</td>\n",
              "      <td>-88.896500</td>\n",
              "      <td>2020-07-19</td>\n",
              "      <td>11846.0</td>\n",
              "      <td>335.0</td>\n",
              "      <td>6705.0</td>\n",
              "      <td>4806.0</td>\n",
              "      <td>Americas</td>\n",
              "    </tr>\n",
              "    <tr>\n",
              "      <th>46817</th>\n",
              "      <td>NaN</td>\n",
              "      <td>Equatorial Guinea</td>\n",
              "      <td>1.650800</td>\n",
              "      <td>10.267900</td>\n",
              "      <td>2020-07-19</td>\n",
              "      <td>3071.0</td>\n",
              "      <td>51.0</td>\n",
              "      <td>842.0</td>\n",
              "      <td>2178.0</td>\n",
              "      <td>Africa</td>\n",
              "    </tr>\n",
              "    <tr>\n",
              "      <th>46818</th>\n",
              "      <td>NaN</td>\n",
              "      <td>Eritrea</td>\n",
              "      <td>15.179400</td>\n",
              "      <td>39.782300</td>\n",
              "      <td>NaN</td>\n",
              "      <td>NaN</td>\n",
              "      <td>NaN</td>\n",
              "      <td>NaN</td>\n",
              "      <td>NaN</td>\n",
              "      <td>NaN</td>\n",
              "    </tr>\n",
              "  </tbody>\n",
              "</table>\n",
              "</div>"
            ],
            "text/plain": [
              "      Province/State     Country/Region  ...   Active             WHO Region\n",
              "46814            NaN            Ecuador  ...  36799.0               Americas\n",
              "46815            NaN              Egypt  ...  55093.0  Eastern Mediterranean\n",
              "46816            NaN        El Salvador  ...   4806.0               Americas\n",
              "46817            NaN  Equatorial Guinea  ...   2178.0                 Africa\n",
              "46818            NaN            Eritrea  ...      NaN                    NaN\n",
              "\n",
              "[5 rows x 10 columns]"
            ]
          },
          "metadata": {
            "tags": []
          },
          "execution_count": 5
        }
      ]
    },
    {
      "cell_type": "markdown",
      "metadata": {
        "id": "_rj81CJkFzQV"
      },
      "source": [
        "#2. 데이터 살펴보기"
      ]
    },
    {
      "cell_type": "markdown",
      "metadata": {
        "id": "2XzMfxI1JNQW"
      },
      "source": [
        "### 2-1. NaN값 및 Data Type 확인"
      ]
    },
    {
      "cell_type": "code",
      "metadata": {
        "colab": {
          "base_uri": "https://localhost:8080/"
        },
        "id": "x4EQIzV2Ft_1",
        "outputId": "f0ed9898-3f4f-4b6a-d1bc-9acfb1c1e6d4"
      },
      "source": [
        "df.info()"
      ],
      "execution_count": 6,
      "outputs": [
        {
          "output_type": "stream",
          "text": [
            "<class 'pandas.core.frame.DataFrame'>\n",
            "RangeIndex: 46819 entries, 0 to 46818\n",
            "Data columns (total 10 columns):\n",
            " #   Column          Non-Null Count  Dtype  \n",
            "---  ------          --------------  -----  \n",
            " 0   Province/State  14015 non-null  object \n",
            " 1   Country/Region  46819 non-null  object \n",
            " 2   Lat             46819 non-null  float64\n",
            " 3   Long            46819 non-null  float64\n",
            " 4   Date            46818 non-null  object \n",
            " 5   Confirmed       46818 non-null  float64\n",
            " 6   Deaths          46818 non-null  float64\n",
            " 7   Recovered       46818 non-null  float64\n",
            " 8   Active          46818 non-null  float64\n",
            " 9   WHO Region      46818 non-null  object \n",
            "dtypes: float64(6), object(4)\n",
            "memory usage: 3.6+ MB\n"
          ],
          "name": "stdout"
        }
      ]
    },
    {
      "cell_type": "code",
      "metadata": {
        "id": "3AdKaiFBFybO"
      },
      "source": [
        "df.describe()"
      ],
      "execution_count": null,
      "outputs": []
    },
    {
      "cell_type": "markdown",
      "metadata": {
        "id": "ba_oTssriabA"
      },
      "source": [
        "##  날짜 변환(datetime type)"
      ]
    },
    {
      "cell_type": "code",
      "metadata": {
        "colab": {
          "base_uri": "https://localhost:8080/"
        },
        "id": "H5AyNaO9jvat",
        "outputId": "17ec81cf-2ba4-42a5-cf66-085da924b428"
      },
      "source": [
        "df['Date'] = pd.to_datetime(df['Date'])\n",
        "df['Date']"
      ],
      "execution_count": 42,
      "outputs": [
        {
          "output_type": "execute_result",
          "data": {
            "text/plain": [
              "0       2020-01-22\n",
              "1       2020-01-22\n",
              "2       2020-01-22\n",
              "3       2020-01-22\n",
              "4       2020-01-22\n",
              "           ...    \n",
              "46814   2020-07-19\n",
              "46815   2020-07-19\n",
              "46816   2020-07-19\n",
              "46817   2020-07-19\n",
              "46818          NaT\n",
              "Name: Date, Length: 46819, dtype: datetime64[ns]"
            ]
          },
          "metadata": {
            "tags": []
          },
          "execution_count": 42
        }
      ]
    },
    {
      "cell_type": "code",
      "metadata": {
        "id": "UrgihsZ4lNXS"
      },
      "source": [
        "df.info()"
      ],
      "execution_count": null,
      "outputs": []
    },
    {
      "cell_type": "markdown",
      "metadata": {
        "id": "1uH6Tez3lcZ2"
      },
      "source": [
        "날짜 데이터  분리(연도/월)"
      ]
    },
    {
      "cell_type": "code",
      "metadata": {
        "id": "GWZpL3BuijDg"
      },
      "source": [
        "df['DateYear'] = df['Date'].dt.year\n",
        "df['DateMonth'] = df['Date'].dt.month"
      ],
      "execution_count": 48,
      "outputs": []
    },
    {
      "cell_type": "code",
      "metadata": {
        "colab": {
          "base_uri": "https://localhost:8080/",
          "height": 360
        },
        "id": "EZ8MGltElzqj",
        "outputId": "5558eea8-53aa-459c-8ddd-654a0f5e1028"
      },
      "source": [
        "df['DateYear'].drop()"
      ],
      "execution_count": 50,
      "outputs": [
        {
          "output_type": "error",
          "ename": "ValueError",
          "evalue": "ignored",
          "traceback": [
            "\u001b[0;31m---------------------------------------------------------------------------\u001b[0m",
            "\u001b[0;31mValueError\u001b[0m                                Traceback (most recent call last)",
            "\u001b[0;32m<ipython-input-50-05fff5d35034>\u001b[0m in \u001b[0;36m<module>\u001b[0;34m()\u001b[0m\n\u001b[0;32m----> 1\u001b[0;31m \u001b[0mdf\u001b[0m\u001b[0;34m[\u001b[0m\u001b[0;34m'DateYear'\u001b[0m\u001b[0;34m]\u001b[0m\u001b[0;34m.\u001b[0m\u001b[0mdrop\u001b[0m\u001b[0;34m(\u001b[0m\u001b[0;34m)\u001b[0m\u001b[0;34m\u001b[0m\u001b[0;34m\u001b[0m\u001b[0m\n\u001b[0m",
            "\u001b[0;32m/usr/local/lib/python3.7/dist-packages/pandas/core/series.py\u001b[0m in \u001b[0;36mdrop\u001b[0;34m(self, labels, axis, index, columns, level, inplace, errors)\u001b[0m\n\u001b[1;32m   4515\u001b[0m             \u001b[0mlevel\u001b[0m\u001b[0;34m=\u001b[0m\u001b[0mlevel\u001b[0m\u001b[0;34m,\u001b[0m\u001b[0;34m\u001b[0m\u001b[0;34m\u001b[0m\u001b[0m\n\u001b[1;32m   4516\u001b[0m             \u001b[0minplace\u001b[0m\u001b[0;34m=\u001b[0m\u001b[0minplace\u001b[0m\u001b[0;34m,\u001b[0m\u001b[0;34m\u001b[0m\u001b[0;34m\u001b[0m\u001b[0m\n\u001b[0;32m-> 4517\u001b[0;31m             \u001b[0merrors\u001b[0m\u001b[0;34m=\u001b[0m\u001b[0merrors\u001b[0m\u001b[0;34m,\u001b[0m\u001b[0;34m\u001b[0m\u001b[0;34m\u001b[0m\u001b[0m\n\u001b[0m\u001b[1;32m   4518\u001b[0m         )\n\u001b[1;32m   4519\u001b[0m \u001b[0;34m\u001b[0m\u001b[0m\n",
            "\u001b[0;32m/usr/local/lib/python3.7/dist-packages/pandas/core/generic.py\u001b[0m in \u001b[0;36mdrop\u001b[0;34m(self, labels, axis, index, columns, level, inplace, errors)\u001b[0m\n\u001b[1;32m   3880\u001b[0m         \u001b[0;32melse\u001b[0m\u001b[0;34m:\u001b[0m\u001b[0;34m\u001b[0m\u001b[0;34m\u001b[0m\u001b[0m\n\u001b[1;32m   3881\u001b[0m             raise ValueError(\n\u001b[0;32m-> 3882\u001b[0;31m                 \u001b[0;34m\"Need to specify at least one of 'labels', 'index' or 'columns'\"\u001b[0m\u001b[0;34m\u001b[0m\u001b[0;34m\u001b[0m\u001b[0m\n\u001b[0m\u001b[1;32m   3883\u001b[0m             )\n\u001b[1;32m   3884\u001b[0m \u001b[0;34m\u001b[0m\u001b[0m\n",
            "\u001b[0;31mValueError\u001b[0m: Need to specify at least one of 'labels', 'index' or 'columns'"
          ]
        }
      ]
    },
    {
      "cell_type": "code",
      "metadata": {
        "colab": {
          "base_uri": "https://localhost:8080/"
        },
        "id": "fHM2VL5Nj3y6",
        "outputId": "53cdc443-3d43-4b5e-fcca-3a92886bca7b"
      },
      "source": [
        "df.info()"
      ],
      "execution_count": 49,
      "outputs": [
        {
          "output_type": "stream",
          "text": [
            "<class 'pandas.core.frame.DataFrame'>\n",
            "RangeIndex: 46819 entries, 0 to 46818\n",
            "Data columns (total 14 columns):\n",
            " #   Column          Non-Null Count  Dtype         \n",
            "---  ------          --------------  -----         \n",
            " 0   Province/State  14015 non-null  object        \n",
            " 1   Country/Region  46819 non-null  object        \n",
            " 2   Lat             46819 non-null  float64       \n",
            " 3   Long            46819 non-null  float64       \n",
            " 4   Date            46818 non-null  datetime64[ns]\n",
            " 5   Confirmed       46818 non-null  float64       \n",
            " 6   Deaths          46818 non-null  float64       \n",
            " 7   Recovered       46818 non-null  float64       \n",
            " 8   Active          46818 non-null  float64       \n",
            " 9   WHO Region      46818 non-null  object        \n",
            " 10  Year            46818 non-null  float64       \n",
            " 11  Month           46818 non-null  float64       \n",
            " 12  DateYear        46818 non-null  float64       \n",
            " 13  DateMonth       46818 non-null  float64       \n",
            "dtypes: datetime64[ns](1), float64(10), object(3)\n",
            "memory usage: 5.0+ MB\n"
          ],
          "name": "stdout"
        }
      ]
    },
    {
      "cell_type": "markdown",
      "metadata": {
        "id": "Il6ZnH0mEFvt"
      },
      "source": [
        "# 3. 데이터 전처리\n",
        " * NaN 값 처리(0, 평균값 채워주기)\n",
        " * 중복값(필요에 따라)\n",
        " * comma, 제거\n",
        " * 오차 범위 줄이기 위해\n"
      ]
    },
    {
      "cell_type": "markdown",
      "metadata": {
        "id": "KD2A3tKLnPhu"
      },
      "source": [
        "### 1 단계 \n",
        "조건 별 데이터(행)의 index  가져온다\n",
        "\n"
      ]
    },
    {
      "cell_type": "code",
      "metadata": {
        "colab": {
          "base_uri": "https://localhost:8080/"
        },
        "id": "uvE_axYOmp7I",
        "outputId": "1b840fbf-6f0b-44c5-91d5-f5bc633e9deb"
      },
      "source": [
        "drop_idx = df.loc[df['Confirmed'] == 0].index\n",
        "drop_idx"
      ],
      "execution_count": 51,
      "outputs": [
        {
          "output_type": "execute_result",
          "data": {
            "text/plain": [
              "Int64Index([    0,     1,     2,     3,     4,     5,     6,     7,     8,\n",
              "                9,\n",
              "            ...\n",
              "            26882, 27143, 27404, 27665, 27926, 28187, 28448, 28709, 28970,\n",
              "            29231],\n",
              "           dtype='int64', length=10059)"
            ]
          },
          "metadata": {
            "tags": []
          },
          "execution_count": 51
        }
      ]
    },
    {
      "cell_type": "markdown",
      "metadata": {
        "id": "djFfr5ihnd62"
      },
      "source": [
        "### 2  단계 \n",
        "drop 활용해 행 제거"
      ]
    },
    {
      "cell_type": "markdown",
      "metadata": {
        "id": "zd-LfXsFKufW"
      },
      "source": [
        "###WHO 지역 구분 살펴보기"
      ]
    },
    {
      "cell_type": "code",
      "metadata": {
        "colab": {
          "base_uri": "https://localhost:8080/"
        },
        "id": "RrL2sSEuKZwd",
        "outputId": "175f6ae2-9917-401a-b423-2f0ebee08e39"
      },
      "source": [
        "df['WHO Region'].unique()"
      ],
      "execution_count": 8,
      "outputs": [
        {
          "output_type": "execute_result",
          "data": {
            "text/plain": [
              "array(['Eastern Mediterranean', 'Europe', 'Africa', 'Americas',\n",
              "       'Western Pacific', 'South-East Asia', nan], dtype=object)"
            ]
          },
          "metadata": {
            "tags": []
          },
          "execution_count": 8
        }
      ]
    },
    {
      "cell_type": "markdown",
      "metadata": {
        "id": "f4CNuinRzzUI"
      },
      "source": [
        "WHO 지역 기준으로 6개의 데이터셋으로 분류되어 있음을 알수 있다."
      ]
    },
    {
      "cell_type": "markdown",
      "metadata": {
        "id": "FVugSUG_Fvht"
      },
      "source": [
        "4. ~ 별 통계 현항 집계 조회 `groupby`\n",
        " * 날짜별 확진자/사망자 집계(총합계, 사망율)\n",
        " * 나라별 확진자/사망자 집계(총합계, 사망율)\n",
        " * 지역별 확진자/사망자 집계(총합계, 사망율)"
      ]
    },
    {
      "cell_type": "markdown",
      "metadata": {
        "id": "3dVnhSYnNc0F"
      },
      "source": [
        "###날짜  별 확진자/사망자 집계 조회"
      ]
    },
    {
      "cell_type": "code",
      "metadata": {
        "colab": {
          "base_uri": "https://localhost:8080/"
        },
        "id": "4CEDqAC1LCCP",
        "outputId": "e0065fc9-8961-4ba7-a5bb-65f0156571f0"
      },
      "source": [
        "daily_confiemd = df.groupby(\"Date\")['Confirmed'].sum() #날짜별 확진자 총합계\n",
        "daily_confiemd #조회"
      ],
      "execution_count": 9,
      "outputs": [
        {
          "output_type": "execute_result",
          "data": {
            "text/plain": [
              "Date\n",
              "2020-01-22         555.0\n",
              "2020-01-23         654.0\n",
              "2020-01-24         941.0\n",
              "2020-01-25        1434.0\n",
              "2020-01-26        2118.0\n",
              "                 ...    \n",
              "2020-07-15    13559984.0\n",
              "2020-07-16    13812525.0\n",
              "2020-07-17    14054563.0\n",
              "2020-07-18    14292198.0\n",
              "2020-07-19     3889707.0\n",
              "Name: Confirmed, Length: 180, dtype: float64"
            ]
          },
          "metadata": {
            "tags": []
          },
          "execution_count": 9
        }
      ]
    },
    {
      "cell_type": "code",
      "metadata": {
        "id": "l40kZSjoMwFN",
        "colab": {
          "base_uri": "https://localhost:8080/"
        },
        "outputId": "d0aa09d8-8e18-48b2-bbe4-64970f8ba7b0"
      },
      "source": [
        "daily_deaths = df.groupby(\"Date\")['Deaths'].sum()#날짜별 사망자 총합계\n",
        "daily_deaths"
      ],
      "execution_count": 10,
      "outputs": [
        {
          "output_type": "execute_result",
          "data": {
            "text/plain": [
              "Date\n",
              "2020-01-22        17.0\n",
              "2020-01-23        18.0\n",
              "2020-01-24        26.0\n",
              "2020-01-25        42.0\n",
              "2020-01-26        56.0\n",
              "                ...   \n",
              "2020-07-15    583961.0\n",
              "2020-07-16    589760.0\n",
              "2020-07-17    596503.0\n",
              "2020-07-18    602130.0\n",
              "2020-07-19    143815.0\n",
              "Name: Deaths, Length: 180, dtype: float64"
            ]
          },
          "metadata": {
            "tags": []
          },
          "execution_count": 10
        }
      ]
    },
    {
      "cell_type": "markdown",
      "metadata": {
        "id": "s_F9SRpmNYYU"
      },
      "source": [
        "###국가 별 확진자 집계 조회"
      ]
    },
    {
      "cell_type": "code",
      "metadata": {
        "colab": {
          "base_uri": "https://localhost:8080/"
        },
        "id": "m113rBPRLZgN",
        "outputId": "6a766da1-9d49-4e17-8353-b04a8f9cbd3a"
      },
      "source": [
        "country_c = df.groupby(\"Country/Region\")[\"Confirmed\"].sum()\n",
        "country_c"
      ],
      "execution_count": 11,
      "outputs": [
        {
          "output_type": "execute_result",
          "data": {
            "text/plain": [
              "Country/Region\n",
              "Afghanistan           1649157.0\n",
              "Albania                160567.0\n",
              "Algeria                973177.0\n",
              "Andorra                 87260.0\n",
              "Angola                  15793.0\n",
              "                        ...    \n",
              "West Bank and Gaza     146137.0\n",
              "Western Sahara            811.0\n",
              "Yemen                   52312.0\n",
              "Zambia                  95140.0\n",
              "Zimbabwe                31546.0\n",
              "Name: Confirmed, Length: 187, dtype: float64"
            ]
          },
          "metadata": {
            "tags": []
          },
          "execution_count": 11
        }
      ]
    },
    {
      "cell_type": "markdown",
      "metadata": {
        "id": "Hf7wWTG6OJCO"
      },
      "source": [
        "###국가별 사망자 집계 조회"
      ]
    },
    {
      "cell_type": "code",
      "metadata": {
        "id": "nBfjsbYhNufn",
        "colab": {
          "base_uri": "https://localhost:8080/"
        },
        "outputId": "f61542e6-853a-4f40-e091-9e74fecba11c"
      },
      "source": [
        "country_d = df.groupby(\"Country/Region\")[\"Deaths\"].sum()\n",
        "country_d"
      ],
      "execution_count": 12,
      "outputs": [
        {
          "output_type": "execute_result",
          "data": {
            "text/plain": [
              "Country/Region\n",
              "Afghanistan           39325.0\n",
              "Albania                4691.0\n",
              "Algeria               68950.0\n",
              "Andorra                5007.0\n",
              "Angola                  798.0\n",
              "                       ...   \n",
              "West Bank and Gaza      749.0\n",
              "Western Sahara           54.0\n",
              "Yemen                 13535.0\n",
              "Zambia                 1451.0\n",
              "Zimbabwe                614.0\n",
              "Name: Deaths, Length: 187, dtype: float64"
            ]
          },
          "metadata": {
            "tags": []
          },
          "execution_count": 12
        }
      ]
    },
    {
      "cell_type": "markdown",
      "metadata": {
        "id": "eQcXWhB2OArl"
      },
      "source": [
        "# 피벗테이블 사용\n",
        "    * 나라별 코로나 확진자의 사망자율/회복률을 지역별로 조회하기 위해 \n",
        "    * 행 인덱스: 나라별\n",
        "    * 열 인덱스: WHO 지역 #새로운 column 명이 됨\n",
        "    * 집계할값 대상: 사망자 수"
      ]
    },
    {
      "cell_type": "code",
      "metadata": {
        "colab": {
          "base_uri": "https://localhost:8080/",
          "height": 490
        },
        "id": "SE3DqjPSQjvW",
        "outputId": "dd7689d9-1db6-47d9-95d5-7d7e22f97f44"
      },
      "source": [
        "import numpy as np\n",
        "pd.pivot_table(\n",
        "    df, #사용할 데이터 프레임\n",
        "    index=\"Country/Region\",\n",
        "    columns=\"WHO Region\",\n",
        "    values=\"Deaths\")"
      ],
      "execution_count": 13,
      "outputs": [
        {
          "output_type": "execute_result",
          "data": {
            "text/html": [
              "<div>\n",
              "<style scoped>\n",
              "    .dataframe tbody tr th:only-of-type {\n",
              "        vertical-align: middle;\n",
              "    }\n",
              "\n",
              "    .dataframe tbody tr th {\n",
              "        vertical-align: top;\n",
              "    }\n",
              "\n",
              "    .dataframe thead th {\n",
              "        text-align: right;\n",
              "    }\n",
              "</style>\n",
              "<table border=\"1\" class=\"dataframe\">\n",
              "  <thead>\n",
              "    <tr style=\"text-align: right;\">\n",
              "      <th>WHO Region</th>\n",
              "      <th>Africa</th>\n",
              "      <th>Americas</th>\n",
              "      <th>Eastern Mediterranean</th>\n",
              "      <th>Europe</th>\n",
              "      <th>South-East Asia</th>\n",
              "      <th>Western Pacific</th>\n",
              "    </tr>\n",
              "    <tr>\n",
              "      <th>Country/Region</th>\n",
              "      <th></th>\n",
              "      <th></th>\n",
              "      <th></th>\n",
              "      <th></th>\n",
              "      <th></th>\n",
              "      <th></th>\n",
              "    </tr>\n",
              "  </thead>\n",
              "  <tbody>\n",
              "    <tr>\n",
              "      <th>Afghanistan</th>\n",
              "      <td>NaN</td>\n",
              "      <td>NaN</td>\n",
              "      <td>218.472222</td>\n",
              "      <td>NaN</td>\n",
              "      <td>NaN</td>\n",
              "      <td>NaN</td>\n",
              "    </tr>\n",
              "    <tr>\n",
              "      <th>Albania</th>\n",
              "      <td>NaN</td>\n",
              "      <td>NaN</td>\n",
              "      <td>NaN</td>\n",
              "      <td>26.061111</td>\n",
              "      <td>NaN</td>\n",
              "      <td>NaN</td>\n",
              "    </tr>\n",
              "    <tr>\n",
              "      <th>Algeria</th>\n",
              "      <td>383.055556</td>\n",
              "      <td>NaN</td>\n",
              "      <td>NaN</td>\n",
              "      <td>NaN</td>\n",
              "      <td>NaN</td>\n",
              "      <td>NaN</td>\n",
              "    </tr>\n",
              "    <tr>\n",
              "      <th>Andorra</th>\n",
              "      <td>NaN</td>\n",
              "      <td>NaN</td>\n",
              "      <td>NaN</td>\n",
              "      <td>27.816667</td>\n",
              "      <td>NaN</td>\n",
              "      <td>NaN</td>\n",
              "    </tr>\n",
              "    <tr>\n",
              "      <th>Angola</th>\n",
              "      <td>4.433333</td>\n",
              "      <td>NaN</td>\n",
              "      <td>NaN</td>\n",
              "      <td>NaN</td>\n",
              "      <td>NaN</td>\n",
              "      <td>NaN</td>\n",
              "    </tr>\n",
              "    <tr>\n",
              "      <th>...</th>\n",
              "      <td>...</td>\n",
              "      <td>...</td>\n",
              "      <td>...</td>\n",
              "      <td>...</td>\n",
              "      <td>...</td>\n",
              "      <td>...</td>\n",
              "    </tr>\n",
              "    <tr>\n",
              "      <th>West Bank and Gaza</th>\n",
              "      <td>NaN</td>\n",
              "      <td>NaN</td>\n",
              "      <td>4.184358</td>\n",
              "      <td>NaN</td>\n",
              "      <td>NaN</td>\n",
              "      <td>NaN</td>\n",
              "    </tr>\n",
              "    <tr>\n",
              "      <th>Western Sahara</th>\n",
              "      <td>0.301676</td>\n",
              "      <td>NaN</td>\n",
              "      <td>NaN</td>\n",
              "      <td>NaN</td>\n",
              "      <td>NaN</td>\n",
              "      <td>NaN</td>\n",
              "    </tr>\n",
              "    <tr>\n",
              "      <th>Yemen</th>\n",
              "      <td>NaN</td>\n",
              "      <td>NaN</td>\n",
              "      <td>75.614525</td>\n",
              "      <td>NaN</td>\n",
              "      <td>NaN</td>\n",
              "      <td>NaN</td>\n",
              "    </tr>\n",
              "    <tr>\n",
              "      <th>Zambia</th>\n",
              "      <td>8.106145</td>\n",
              "      <td>NaN</td>\n",
              "      <td>NaN</td>\n",
              "      <td>NaN</td>\n",
              "      <td>NaN</td>\n",
              "      <td>NaN</td>\n",
              "    </tr>\n",
              "    <tr>\n",
              "      <th>Zimbabwe</th>\n",
              "      <td>3.430168</td>\n",
              "      <td>NaN</td>\n",
              "      <td>NaN</td>\n",
              "      <td>NaN</td>\n",
              "      <td>NaN</td>\n",
              "      <td>NaN</td>\n",
              "    </tr>\n",
              "  </tbody>\n",
              "</table>\n",
              "<p>187 rows × 6 columns</p>\n",
              "</div>"
            ],
            "text/plain": [
              "WHO Region              Africa  Americas  ...  South-East Asia  Western Pacific\n",
              "Country/Region                            ...                                  \n",
              "Afghanistan                NaN       NaN  ...              NaN              NaN\n",
              "Albania                    NaN       NaN  ...              NaN              NaN\n",
              "Algeria             383.055556       NaN  ...              NaN              NaN\n",
              "Andorra                    NaN       NaN  ...              NaN              NaN\n",
              "Angola                4.433333       NaN  ...              NaN              NaN\n",
              "...                        ...       ...  ...              ...              ...\n",
              "West Bank and Gaza         NaN       NaN  ...              NaN              NaN\n",
              "Western Sahara        0.301676       NaN  ...              NaN              NaN\n",
              "Yemen                      NaN       NaN  ...              NaN              NaN\n",
              "Zambia                8.106145       NaN  ...              NaN              NaN\n",
              "Zimbabwe              3.430168       NaN  ...              NaN              NaN\n",
              "\n",
              "[187 rows x 6 columns]"
            ]
          },
          "metadata": {
            "tags": []
          },
          "execution_count": 13
        }
      ]
    },
    {
      "cell_type": "code",
      "metadata": {
        "colab": {
          "base_uri": "https://localhost:8080/",
          "height": 461
        },
        "id": "XJqTMZXN7ITH",
        "outputId": "f3c7d26f-4a2b-4037-a888-41b158fca1e5"
      },
      "source": [
        "df.loc[df['Confirmed']==0]"
      ],
      "execution_count": 14,
      "outputs": [
        {
          "output_type": "execute_result",
          "data": {
            "text/html": [
              "<div>\n",
              "<style scoped>\n",
              "    .dataframe tbody tr th:only-of-type {\n",
              "        vertical-align: middle;\n",
              "    }\n",
              "\n",
              "    .dataframe tbody tr th {\n",
              "        vertical-align: top;\n",
              "    }\n",
              "\n",
              "    .dataframe thead th {\n",
              "        text-align: right;\n",
              "    }\n",
              "</style>\n",
              "<table border=\"1\" class=\"dataframe\">\n",
              "  <thead>\n",
              "    <tr style=\"text-align: right;\">\n",
              "      <th></th>\n",
              "      <th>Province/State</th>\n",
              "      <th>Country/Region</th>\n",
              "      <th>Lat</th>\n",
              "      <th>Long</th>\n",
              "      <th>Date</th>\n",
              "      <th>Confirmed</th>\n",
              "      <th>Deaths</th>\n",
              "      <th>Recovered</th>\n",
              "      <th>Active</th>\n",
              "      <th>WHO Region</th>\n",
              "    </tr>\n",
              "  </thead>\n",
              "  <tbody>\n",
              "    <tr>\n",
              "      <th>0</th>\n",
              "      <td>NaN</td>\n",
              "      <td>Afghanistan</td>\n",
              "      <td>33.93911</td>\n",
              "      <td>67.709953</td>\n",
              "      <td>2020-01-22</td>\n",
              "      <td>0.0</td>\n",
              "      <td>0.0</td>\n",
              "      <td>0.0</td>\n",
              "      <td>0.0</td>\n",
              "      <td>Eastern Mediterranean</td>\n",
              "    </tr>\n",
              "    <tr>\n",
              "      <th>1</th>\n",
              "      <td>NaN</td>\n",
              "      <td>Albania</td>\n",
              "      <td>41.15330</td>\n",
              "      <td>20.168300</td>\n",
              "      <td>2020-01-22</td>\n",
              "      <td>0.0</td>\n",
              "      <td>0.0</td>\n",
              "      <td>0.0</td>\n",
              "      <td>0.0</td>\n",
              "      <td>Europe</td>\n",
              "    </tr>\n",
              "    <tr>\n",
              "      <th>2</th>\n",
              "      <td>NaN</td>\n",
              "      <td>Algeria</td>\n",
              "      <td>28.03390</td>\n",
              "      <td>1.659600</td>\n",
              "      <td>2020-01-22</td>\n",
              "      <td>0.0</td>\n",
              "      <td>0.0</td>\n",
              "      <td>0.0</td>\n",
              "      <td>0.0</td>\n",
              "      <td>Africa</td>\n",
              "    </tr>\n",
              "    <tr>\n",
              "      <th>3</th>\n",
              "      <td>NaN</td>\n",
              "      <td>Andorra</td>\n",
              "      <td>42.50630</td>\n",
              "      <td>1.521800</td>\n",
              "      <td>2020-01-22</td>\n",
              "      <td>0.0</td>\n",
              "      <td>0.0</td>\n",
              "      <td>0.0</td>\n",
              "      <td>0.0</td>\n",
              "      <td>Europe</td>\n",
              "    </tr>\n",
              "    <tr>\n",
              "      <th>4</th>\n",
              "      <td>NaN</td>\n",
              "      <td>Angola</td>\n",
              "      <td>-11.20270</td>\n",
              "      <td>17.873900</td>\n",
              "      <td>2020-01-22</td>\n",
              "      <td>0.0</td>\n",
              "      <td>0.0</td>\n",
              "      <td>0.0</td>\n",
              "      <td>0.0</td>\n",
              "      <td>Africa</td>\n",
              "    </tr>\n",
              "    <tr>\n",
              "      <th>...</th>\n",
              "      <td>...</td>\n",
              "      <td>...</td>\n",
              "      <td>...</td>\n",
              "      <td>...</td>\n",
              "      <td>...</td>\n",
              "      <td>...</td>\n",
              "      <td>...</td>\n",
              "      <td>...</td>\n",
              "      <td>...</td>\n",
              "      <td>...</td>\n",
              "    </tr>\n",
              "    <tr>\n",
              "      <th>28187</th>\n",
              "      <td>NaN</td>\n",
              "      <td>Lesotho</td>\n",
              "      <td>-29.61000</td>\n",
              "      <td>28.233600</td>\n",
              "      <td>2020-05-08</td>\n",
              "      <td>0.0</td>\n",
              "      <td>0.0</td>\n",
              "      <td>0.0</td>\n",
              "      <td>0.0</td>\n",
              "      <td>Africa</td>\n",
              "    </tr>\n",
              "    <tr>\n",
              "      <th>28448</th>\n",
              "      <td>NaN</td>\n",
              "      <td>Lesotho</td>\n",
              "      <td>-29.61000</td>\n",
              "      <td>28.233600</td>\n",
              "      <td>2020-05-09</td>\n",
              "      <td>0.0</td>\n",
              "      <td>0.0</td>\n",
              "      <td>0.0</td>\n",
              "      <td>0.0</td>\n",
              "      <td>Africa</td>\n",
              "    </tr>\n",
              "    <tr>\n",
              "      <th>28709</th>\n",
              "      <td>NaN</td>\n",
              "      <td>Lesotho</td>\n",
              "      <td>-29.61000</td>\n",
              "      <td>28.233600</td>\n",
              "      <td>2020-05-10</td>\n",
              "      <td>0.0</td>\n",
              "      <td>0.0</td>\n",
              "      <td>0.0</td>\n",
              "      <td>0.0</td>\n",
              "      <td>Africa</td>\n",
              "    </tr>\n",
              "    <tr>\n",
              "      <th>28970</th>\n",
              "      <td>NaN</td>\n",
              "      <td>Lesotho</td>\n",
              "      <td>-29.61000</td>\n",
              "      <td>28.233600</td>\n",
              "      <td>2020-05-11</td>\n",
              "      <td>0.0</td>\n",
              "      <td>0.0</td>\n",
              "      <td>0.0</td>\n",
              "      <td>0.0</td>\n",
              "      <td>Africa</td>\n",
              "    </tr>\n",
              "    <tr>\n",
              "      <th>29231</th>\n",
              "      <td>NaN</td>\n",
              "      <td>Lesotho</td>\n",
              "      <td>-29.61000</td>\n",
              "      <td>28.233600</td>\n",
              "      <td>2020-05-12</td>\n",
              "      <td>0.0</td>\n",
              "      <td>0.0</td>\n",
              "      <td>0.0</td>\n",
              "      <td>0.0</td>\n",
              "      <td>Africa</td>\n",
              "    </tr>\n",
              "  </tbody>\n",
              "</table>\n",
              "<p>10059 rows × 10 columns</p>\n",
              "</div>"
            ],
            "text/plain": [
              "      Province/State Country/Region  ...  Active             WHO Region\n",
              "0                NaN    Afghanistan  ...     0.0  Eastern Mediterranean\n",
              "1                NaN        Albania  ...     0.0                 Europe\n",
              "2                NaN        Algeria  ...     0.0                 Africa\n",
              "3                NaN        Andorra  ...     0.0                 Europe\n",
              "4                NaN         Angola  ...     0.0                 Africa\n",
              "...              ...            ...  ...     ...                    ...\n",
              "28187            NaN        Lesotho  ...     0.0                 Africa\n",
              "28448            NaN        Lesotho  ...     0.0                 Africa\n",
              "28709            NaN        Lesotho  ...     0.0                 Africa\n",
              "28970            NaN        Lesotho  ...     0.0                 Africa\n",
              "29231            NaN        Lesotho  ...     0.0                 Africa\n",
              "\n",
              "[10059 rows x 10 columns]"
            ]
          },
          "metadata": {
            "tags": []
          },
          "execution_count": 14
        }
      ]
    },
    {
      "cell_type": "code",
      "metadata": {
        "colab": {
          "base_uri": "https://localhost:8080/"
        },
        "id": "H59EYuSv4PKo",
        "outputId": "95495597-b819-417c-d25a-da3b8c101987"
      },
      "source": [
        "df.groupby([\"Country/Region\",\"WHO Region\"])[\"Deaths\"].sum()"
      ],
      "execution_count": 15,
      "outputs": [
        {
          "output_type": "execute_result",
          "data": {
            "text/plain": [
              "Country/Region      WHO Region           \n",
              "Afghanistan         Eastern Mediterranean    39325.0\n",
              "Albania             Europe                    4691.0\n",
              "Algeria             Africa                   68950.0\n",
              "Andorra             Europe                    5007.0\n",
              "Angola              Africa                     798.0\n",
              "                                              ...   \n",
              "West Bank and Gaza  Eastern Mediterranean      749.0\n",
              "Western Sahara      Africa                      54.0\n",
              "Yemen               Eastern Mediterranean    13535.0\n",
              "Zambia              Africa                    1451.0\n",
              "Zimbabwe            Africa                     614.0\n",
              "Name: Deaths, Length: 187, dtype: float64"
            ]
          },
          "metadata": {
            "tags": []
          },
          "execution_count": 15
        }
      ]
    },
    {
      "cell_type": "code",
      "metadata": {
        "colab": {
          "base_uri": "https://localhost:8080/"
        },
        "id": "nSQGtmx26hFh",
        "outputId": "9a1eb325-a01b-4edc-bdcd-cb2d0834a8a0"
      },
      "source": [
        "df.groupby([\"WHO Region\",\"Country/Region\"])[\"Confirmed\"].sum()"
      ],
      "execution_count": 16,
      "outputs": [
        {
          "output_type": "execute_result",
          "data": {
            "text/plain": [
              "WHO Region       Country/Region\n",
              "Africa           Algeria            973177.0\n",
              "                 Angola              15793.0\n",
              "                 Benin               50890.0\n",
              "                 Botswana             9829.0\n",
              "                 Burkina Faso        87540.0\n",
              "                                     ...    \n",
              "Western Pacific  Philippines       2301490.0\n",
              "                 Singapore         3059779.0\n",
              "                 South Korea       1521534.0\n",
              "                 Taiwan*             51494.0\n",
              "                 Vietnam             37004.0\n",
              "Name: Confirmed, Length: 187, dtype: float64"
            ]
          },
          "metadata": {
            "tags": []
          },
          "execution_count": 16
        }
      ]
    },
    {
      "cell_type": "code",
      "metadata": {
        "colab": {
          "base_uri": "https://localhost:8080/"
        },
        "id": "wYnXMrw06Jxa",
        "outputId": "a05c5ffd-6485-4db0-8aee-789ef3df72db"
      },
      "source": [
        "df.groupby([\"WHO Region\",\"Country/Region\"])[\"Deaths\"].sum()"
      ],
      "execution_count": 17,
      "outputs": [
        {
          "output_type": "execute_result",
          "data": {
            "text/plain": [
              "WHO Region       Country/Region\n",
              "Africa           Algeria           68950.0\n",
              "                 Angola              798.0\n",
              "                 Benin               827.0\n",
              "                 Botswana            110.0\n",
              "                 Burkina Faso       5159.0\n",
              "                                    ...   \n",
              "Western Pacific  Philippines       94022.0\n",
              "                 Singapore          2198.0\n",
              "                 South Korea       30839.0\n",
              "                 Taiwan*             777.0\n",
              "                 Vietnam               0.0\n",
              "Name: Deaths, Length: 187, dtype: float64"
            ]
          },
          "metadata": {
            "tags": []
          },
          "execution_count": 17
        }
      ]
    },
    {
      "cell_type": "code",
      "metadata": {
        "colab": {
          "base_uri": "https://localhost:8080/"
        },
        "id": "jY2UkKJL60fI",
        "outputId": "5bb778ed-7755-4831-9f13-d34746dbac69"
      },
      "source": [
        "Region_Confirmed = df.groupby([\"WHO Region\"])[\"Confirmed\"].sum()\n",
        "Region_Confirmed"
      ],
      "execution_count": 18,
      "outputs": [
        {
          "output_type": "execute_result",
          "data": {
            "text/plain": [
              "WHO Region\n",
              "Africa                    15945192.0\n",
              "Americas                 330824222.0\n",
              "Eastern Mediterranean     61293706.0\n",
              "Europe                   220227085.0\n",
              "South-East Asia           40657151.0\n",
              "Western Pacific           23973965.0\n",
              "Name: Confirmed, dtype: float64"
            ]
          },
          "metadata": {
            "tags": []
          },
          "execution_count": 18
        }
      ]
    },
    {
      "cell_type": "code",
      "metadata": {
        "colab": {
          "base_uri": "https://localhost:8080/"
        },
        "id": "aY1StMoA6T-K",
        "outputId": "065c019b-86aa-46ae-8e8c-38eed0633381"
      },
      "source": [
        "Region_Deaths = df.groupby([\"WHO Region\"])[\"Deaths\"].sum()\n",
        "Region_Deaths"
      ],
      "execution_count": 19,
      "outputs": [
        {
          "output_type": "execute_result",
          "data": {
            "text/plain": [
              "WHO Region\n",
              "Africa                     343624.0\n",
              "Americas                 16525391.0\n",
              "Eastern Mediterranean     1600863.0\n",
              "Europe                   17398678.0\n",
              "South-East Asia           1119300.0\n",
              "Western Pacific            863957.0\n",
              "Name: Deaths, dtype: float64"
            ]
          },
          "metadata": {
            "tags": []
          },
          "execution_count": 19
        }
      ]
    },
    {
      "cell_type": "code",
      "metadata": {
        "colab": {
          "base_uri": "https://localhost:8080/"
        },
        "id": "2FQSiwxgB3fw",
        "outputId": "3aeba6b6-35a8-422a-b7a6-2c9d35d050ae"
      },
      "source": [
        "Country_Confirmed = df.groupby(['Country/Region'])['Confirmed'].sum()\n",
        "Country_Confirmed"
      ],
      "execution_count": 20,
      "outputs": [
        {
          "output_type": "execute_result",
          "data": {
            "text/plain": [
              "Country/Region\n",
              "Afghanistan           1649157.0\n",
              "Albania                160567.0\n",
              "Algeria                973177.0\n",
              "Andorra                 87260.0\n",
              "Angola                  15793.0\n",
              "                        ...    \n",
              "West Bank and Gaza     146137.0\n",
              "Western Sahara            811.0\n",
              "Yemen                   52312.0\n",
              "Zambia                  95140.0\n",
              "Zimbabwe                31546.0\n",
              "Name: Confirmed, Length: 187, dtype: float64"
            ]
          },
          "metadata": {
            "tags": []
          },
          "execution_count": 20
        }
      ]
    },
    {
      "cell_type": "code",
      "metadata": {
        "colab": {
          "base_uri": "https://localhost:8080/"
        },
        "id": "Bvg_JDHJB3RC",
        "outputId": "077fc409-fb0d-427d-db26-313d459c005b"
      },
      "source": [
        "Country_Deaths = df.groupby(['Country/Region'])['Deaths'].sum()\n",
        "Country_Deaths"
      ],
      "execution_count": 21,
      "outputs": [
        {
          "output_type": "execute_result",
          "data": {
            "text/plain": [
              "Country/Region\n",
              "Afghanistan           39325.0\n",
              "Albania                4691.0\n",
              "Algeria               68950.0\n",
              "Andorra                5007.0\n",
              "Angola                  798.0\n",
              "                       ...   \n",
              "West Bank and Gaza      749.0\n",
              "Western Sahara           54.0\n",
              "Yemen                 13535.0\n",
              "Zambia                 1451.0\n",
              "Zimbabwe                614.0\n",
              "Name: Deaths, Length: 187, dtype: float64"
            ]
          },
          "metadata": {
            "tags": []
          },
          "execution_count": 21
        }
      ]
    },
    {
      "cell_type": "markdown",
      "metadata": {
        "id": "05po6dsa9FuZ"
      },
      "source": [
        "# 가설 확인 \n",
        "지역별 생존률 컬럼을 어떻게 추가하나?"
      ]
    },
    {
      "cell_type": "code",
      "metadata": {
        "id": "16fIAFLb8EdI"
      },
      "source": [
        "# Survival_Rate = Regions_Deaths/Region_Confirmed\n",
        "# Survival_Rate"
      ],
      "execution_count": 22,
      "outputs": []
    },
    {
      "cell_type": "code",
      "metadata": {
        "colab": {
          "base_uri": "https://localhost:8080/",
          "height": 490
        },
        "id": "nJWPnAZU2M7I",
        "outputId": "bffc67a5-fb5e-4d1f-ea97-1a92653b0c17"
      },
      "source": [
        "import numpy as np\n",
        "pd.pivot_table(\n",
        "    df, #사용할 데이터 프레임\n",
        "    index=\"Country/Region\",\n",
        "    columns=\"WHO Region\",\n",
        "    values=\"Deaths\")"
      ],
      "execution_count": 23,
      "outputs": [
        {
          "output_type": "execute_result",
          "data": {
            "text/html": [
              "<div>\n",
              "<style scoped>\n",
              "    .dataframe tbody tr th:only-of-type {\n",
              "        vertical-align: middle;\n",
              "    }\n",
              "\n",
              "    .dataframe tbody tr th {\n",
              "        vertical-align: top;\n",
              "    }\n",
              "\n",
              "    .dataframe thead th {\n",
              "        text-align: right;\n",
              "    }\n",
              "</style>\n",
              "<table border=\"1\" class=\"dataframe\">\n",
              "  <thead>\n",
              "    <tr style=\"text-align: right;\">\n",
              "      <th>WHO Region</th>\n",
              "      <th>Africa</th>\n",
              "      <th>Americas</th>\n",
              "      <th>Eastern Mediterranean</th>\n",
              "      <th>Europe</th>\n",
              "      <th>South-East Asia</th>\n",
              "      <th>Western Pacific</th>\n",
              "    </tr>\n",
              "    <tr>\n",
              "      <th>Country/Region</th>\n",
              "      <th></th>\n",
              "      <th></th>\n",
              "      <th></th>\n",
              "      <th></th>\n",
              "      <th></th>\n",
              "      <th></th>\n",
              "    </tr>\n",
              "  </thead>\n",
              "  <tbody>\n",
              "    <tr>\n",
              "      <th>Afghanistan</th>\n",
              "      <td>NaN</td>\n",
              "      <td>NaN</td>\n",
              "      <td>218.472222</td>\n",
              "      <td>NaN</td>\n",
              "      <td>NaN</td>\n",
              "      <td>NaN</td>\n",
              "    </tr>\n",
              "    <tr>\n",
              "      <th>Albania</th>\n",
              "      <td>NaN</td>\n",
              "      <td>NaN</td>\n",
              "      <td>NaN</td>\n",
              "      <td>26.061111</td>\n",
              "      <td>NaN</td>\n",
              "      <td>NaN</td>\n",
              "    </tr>\n",
              "    <tr>\n",
              "      <th>Algeria</th>\n",
              "      <td>383.055556</td>\n",
              "      <td>NaN</td>\n",
              "      <td>NaN</td>\n",
              "      <td>NaN</td>\n",
              "      <td>NaN</td>\n",
              "      <td>NaN</td>\n",
              "    </tr>\n",
              "    <tr>\n",
              "      <th>Andorra</th>\n",
              "      <td>NaN</td>\n",
              "      <td>NaN</td>\n",
              "      <td>NaN</td>\n",
              "      <td>27.816667</td>\n",
              "      <td>NaN</td>\n",
              "      <td>NaN</td>\n",
              "    </tr>\n",
              "    <tr>\n",
              "      <th>Angola</th>\n",
              "      <td>4.433333</td>\n",
              "      <td>NaN</td>\n",
              "      <td>NaN</td>\n",
              "      <td>NaN</td>\n",
              "      <td>NaN</td>\n",
              "      <td>NaN</td>\n",
              "    </tr>\n",
              "    <tr>\n",
              "      <th>...</th>\n",
              "      <td>...</td>\n",
              "      <td>...</td>\n",
              "      <td>...</td>\n",
              "      <td>...</td>\n",
              "      <td>...</td>\n",
              "      <td>...</td>\n",
              "    </tr>\n",
              "    <tr>\n",
              "      <th>West Bank and Gaza</th>\n",
              "      <td>NaN</td>\n",
              "      <td>NaN</td>\n",
              "      <td>4.184358</td>\n",
              "      <td>NaN</td>\n",
              "      <td>NaN</td>\n",
              "      <td>NaN</td>\n",
              "    </tr>\n",
              "    <tr>\n",
              "      <th>Western Sahara</th>\n",
              "      <td>0.301676</td>\n",
              "      <td>NaN</td>\n",
              "      <td>NaN</td>\n",
              "      <td>NaN</td>\n",
              "      <td>NaN</td>\n",
              "      <td>NaN</td>\n",
              "    </tr>\n",
              "    <tr>\n",
              "      <th>Yemen</th>\n",
              "      <td>NaN</td>\n",
              "      <td>NaN</td>\n",
              "      <td>75.614525</td>\n",
              "      <td>NaN</td>\n",
              "      <td>NaN</td>\n",
              "      <td>NaN</td>\n",
              "    </tr>\n",
              "    <tr>\n",
              "      <th>Zambia</th>\n",
              "      <td>8.106145</td>\n",
              "      <td>NaN</td>\n",
              "      <td>NaN</td>\n",
              "      <td>NaN</td>\n",
              "      <td>NaN</td>\n",
              "      <td>NaN</td>\n",
              "    </tr>\n",
              "    <tr>\n",
              "      <th>Zimbabwe</th>\n",
              "      <td>3.430168</td>\n",
              "      <td>NaN</td>\n",
              "      <td>NaN</td>\n",
              "      <td>NaN</td>\n",
              "      <td>NaN</td>\n",
              "      <td>NaN</td>\n",
              "    </tr>\n",
              "  </tbody>\n",
              "</table>\n",
              "<p>187 rows × 6 columns</p>\n",
              "</div>"
            ],
            "text/plain": [
              "WHO Region              Africa  Americas  ...  South-East Asia  Western Pacific\n",
              "Country/Region                            ...                                  \n",
              "Afghanistan                NaN       NaN  ...              NaN              NaN\n",
              "Albania                    NaN       NaN  ...              NaN              NaN\n",
              "Algeria             383.055556       NaN  ...              NaN              NaN\n",
              "Andorra                    NaN       NaN  ...              NaN              NaN\n",
              "Angola                4.433333       NaN  ...              NaN              NaN\n",
              "...                        ...       ...  ...              ...              ...\n",
              "West Bank and Gaza         NaN       NaN  ...              NaN              NaN\n",
              "Western Sahara        0.301676       NaN  ...              NaN              NaN\n",
              "Yemen                      NaN       NaN  ...              NaN              NaN\n",
              "Zambia                8.106145       NaN  ...              NaN              NaN\n",
              "Zimbabwe              3.430168       NaN  ...              NaN              NaN\n",
              "\n",
              "[187 rows x 6 columns]"
            ]
          },
          "metadata": {
            "tags": []
          },
          "execution_count": 23
        }
      ]
    },
    {
      "cell_type": "code",
      "metadata": {
        "id": "UCIJpUQ5iOAV"
      },
      "source": [
        ""
      ],
      "execution_count": null,
      "outputs": []
    },
    {
      "cell_type": "markdown",
      "metadata": {
        "id": "lk8uq25g_-i_"
      },
      "source": [
        "# Bar 그래프"
      ]
    },
    {
      "cell_type": "code",
      "metadata": {
        "colab": {
          "base_uri": "https://localhost:8080/",
          "height": 1000
        },
        "id": "dndK5iBPD_gA",
        "outputId": "770ce13b-704f-471d-c3c7-fe50d83266fd"
      },
      "source": [
        "df.plot()\n",
        "plt.rcParams[\"figure.figsize\"] = (24, 20)"
      ],
      "execution_count": 35,
      "outputs": [
        {
          "output_type": "display_data",
          "data": {
            "image/png": "[encoded data removed]",
            "text/plain": [
              "<Figure size 864x1440 with 1 Axes>"
            ]
          },
          "metadata": {
            "tags": [],
            "needs_background": "light"
          }
        }
      ]
    },
    {
      "cell_type": "code",
      "metadata": {
        "colab": {
          "base_uri": "https://localhost:8080/",
          "height": 739
        },
        "id": "zvUi3mj4-e-Q",
        "outputId": "2c9aa1d4-1ffa-4547-c351-9e7c7cab0bf0"
      },
      "source": [
        "Region_Confirmed.plot(kind='bar')"
      ],
      "execution_count": 26,
      "outputs": [
        {
          "output_type": "execute_result",
          "data": {
            "text/plain": [
              "<matplotlib.axes._subplots.AxesSubplot at 0x7f78435c00d0>"
            ]
          },
          "metadata": {
            "tags": []
          },
          "execution_count": 26
        },
        {
          "output_type": "display_data",
          "data": {
            "image/png": "[encoded data removed]",
            "text/plain": [
              "<Figure size 864x720 with 1 Axes>"
            ]
          },
          "metadata": {
            "tags": [],
            "needs_background": "light"
          }
        }
      ]
    },
    {
      "cell_type": "code",
      "metadata": {
        "colab": {
          "base_uri": "https://localhost:8080/"
        },
        "id": "YbBCnQR0FZAR",
        "outputId": "a6ff46c6-fed0-4edd-f3a7-f24052b7443f"
      },
      "source": [
        "df['WHO Region'].unique()"
      ],
      "execution_count": 27,
      "outputs": [
        {
          "output_type": "execute_result",
          "data": {
            "text/plain": [
              "array(['Eastern Mediterranean', 'Europe', 'Africa', 'Americas',\n",
              "       'Western Pacific', 'South-East Asia', nan], dtype=object)"
            ]
          },
          "metadata": {
            "tags": []
          },
          "execution_count": 27
        }
      ]
    },
    {
      "cell_type": "code",
      "metadata": {
        "colab": {
          "base_uri": "https://localhost:8080/",
          "height": 461
        },
        "id": "6Dvu7NpzE0xQ",
        "outputId": "15e4424c-21cc-43f3-f153-1f8e576f80ed"
      },
      "source": [
        "df_Africa = df.loc[df['WHO Region'] == 'Africa']\n",
        "df_Africa.head(100)"
      ],
      "execution_count": 28,
      "outputs": [
        {
          "output_type": "execute_result",
          "data": {
            "text/html": [
              "<div>\n",
              "<style scoped>\n",
              "    .dataframe tbody tr th:only-of-type {\n",
              "        vertical-align: middle;\n",
              "    }\n",
              "\n",
              "    .dataframe tbody tr th {\n",
              "        vertical-align: top;\n",
              "    }\n",
              "\n",
              "    .dataframe thead th {\n",
              "        text-align: right;\n",
              "    }\n",
              "</style>\n",
              "<table border=\"1\" class=\"dataframe\">\n",
              "  <thead>\n",
              "    <tr style=\"text-align: right;\">\n",
              "      <th></th>\n",
              "      <th>Province/State</th>\n",
              "      <th>Country/Region</th>\n",
              "      <th>Lat</th>\n",
              "      <th>Long</th>\n",
              "      <th>Date</th>\n",
              "      <th>Confirmed</th>\n",
              "      <th>Deaths</th>\n",
              "      <th>Recovered</th>\n",
              "      <th>Active</th>\n",
              "      <th>WHO Region</th>\n",
              "    </tr>\n",
              "  </thead>\n",
              "  <tbody>\n",
              "    <tr>\n",
              "      <th>2</th>\n",
              "      <td>NaN</td>\n",
              "      <td>Algeria</td>\n",
              "      <td>28.0339</td>\n",
              "      <td>1.6596</td>\n",
              "      <td>2020-01-22</td>\n",
              "      <td>0.0</td>\n",
              "      <td>0.0</td>\n",
              "      <td>0.0</td>\n",
              "      <td>0.0</td>\n",
              "      <td>Africa</td>\n",
              "    </tr>\n",
              "    <tr>\n",
              "      <th>4</th>\n",
              "      <td>NaN</td>\n",
              "      <td>Angola</td>\n",
              "      <td>-11.2027</td>\n",
              "      <td>17.8739</td>\n",
              "      <td>2020-01-22</td>\n",
              "      <td>0.0</td>\n",
              "      <td>0.0</td>\n",
              "      <td>0.0</td>\n",
              "      <td>0.0</td>\n",
              "      <td>Africa</td>\n",
              "    </tr>\n",
              "    <tr>\n",
              "      <th>24</th>\n",
              "      <td>NaN</td>\n",
              "      <td>Benin</td>\n",
              "      <td>9.3077</td>\n",
              "      <td>2.3158</td>\n",
              "      <td>2020-01-22</td>\n",
              "      <td>0.0</td>\n",
              "      <td>0.0</td>\n",
              "      <td>0.0</td>\n",
              "      <td>0.0</td>\n",
              "      <td>Africa</td>\n",
              "    </tr>\n",
              "    <tr>\n",
              "      <th>31</th>\n",
              "      <td>NaN</td>\n",
              "      <td>Burkina Faso</td>\n",
              "      <td>12.2383</td>\n",
              "      <td>-1.5616</td>\n",
              "      <td>2020-01-22</td>\n",
              "      <td>0.0</td>\n",
              "      <td>0.0</td>\n",
              "      <td>0.0</td>\n",
              "      <td>0.0</td>\n",
              "      <td>Africa</td>\n",
              "    </tr>\n",
              "    <tr>\n",
              "      <th>32</th>\n",
              "      <td>NaN</td>\n",
              "      <td>Cabo Verde</td>\n",
              "      <td>16.5388</td>\n",
              "      <td>-23.0418</td>\n",
              "      <td>2020-01-22</td>\n",
              "      <td>0.0</td>\n",
              "      <td>0.0</td>\n",
              "      <td>0.0</td>\n",
              "      <td>0.0</td>\n",
              "      <td>Africa</td>\n",
              "    </tr>\n",
              "    <tr>\n",
              "      <th>...</th>\n",
              "      <td>...</td>\n",
              "      <td>...</td>\n",
              "      <td>...</td>\n",
              "      <td>...</td>\n",
              "      <td>...</td>\n",
              "      <td>...</td>\n",
              "      <td>...</td>\n",
              "      <td>...</td>\n",
              "      <td>...</td>\n",
              "      <td>...</td>\n",
              "    </tr>\n",
              "    <tr>\n",
              "      <th>521</th>\n",
              "      <td>NaN</td>\n",
              "      <td>Lesotho</td>\n",
              "      <td>-29.6100</td>\n",
              "      <td>28.2336</td>\n",
              "      <td>2020-01-23</td>\n",
              "      <td>0.0</td>\n",
              "      <td>0.0</td>\n",
              "      <td>0.0</td>\n",
              "      <td>0.0</td>\n",
              "      <td>Africa</td>\n",
              "    </tr>\n",
              "    <tr>\n",
              "      <th>524</th>\n",
              "      <td>NaN</td>\n",
              "      <td>Algeria</td>\n",
              "      <td>28.0339</td>\n",
              "      <td>1.6596</td>\n",
              "      <td>2020-01-24</td>\n",
              "      <td>0.0</td>\n",
              "      <td>0.0</td>\n",
              "      <td>0.0</td>\n",
              "      <td>0.0</td>\n",
              "      <td>Africa</td>\n",
              "    </tr>\n",
              "    <tr>\n",
              "      <th>526</th>\n",
              "      <td>NaN</td>\n",
              "      <td>Angola</td>\n",
              "      <td>-11.2027</td>\n",
              "      <td>17.8739</td>\n",
              "      <td>2020-01-24</td>\n",
              "      <td>0.0</td>\n",
              "      <td>0.0</td>\n",
              "      <td>0.0</td>\n",
              "      <td>0.0</td>\n",
              "      <td>Africa</td>\n",
              "    </tr>\n",
              "    <tr>\n",
              "      <th>546</th>\n",
              "      <td>NaN</td>\n",
              "      <td>Benin</td>\n",
              "      <td>9.3077</td>\n",
              "      <td>2.3158</td>\n",
              "      <td>2020-01-24</td>\n",
              "      <td>0.0</td>\n",
              "      <td>0.0</td>\n",
              "      <td>0.0</td>\n",
              "      <td>0.0</td>\n",
              "      <td>Africa</td>\n",
              "    </tr>\n",
              "    <tr>\n",
              "      <th>553</th>\n",
              "      <td>NaN</td>\n",
              "      <td>Burkina Faso</td>\n",
              "      <td>12.2383</td>\n",
              "      <td>-1.5616</td>\n",
              "      <td>2020-01-24</td>\n",
              "      <td>0.0</td>\n",
              "      <td>0.0</td>\n",
              "      <td>0.0</td>\n",
              "      <td>0.0</td>\n",
              "      <td>Africa</td>\n",
              "    </tr>\n",
              "  </tbody>\n",
              "</table>\n",
              "<p>100 rows × 10 columns</p>\n",
              "</div>"
            ],
            "text/plain": [
              "    Province/State Country/Region      Lat  ...  Recovered Active  WHO Region\n",
              "2              NaN        Algeria  28.0339  ...        0.0    0.0      Africa\n",
              "4              NaN         Angola -11.2027  ...        0.0    0.0      Africa\n",
              "24             NaN          Benin   9.3077  ...        0.0    0.0      Africa\n",
              "31             NaN   Burkina Faso  12.2383  ...        0.0    0.0      Africa\n",
              "32             NaN     Cabo Verde  16.5388  ...        0.0    0.0      Africa\n",
              "..             ...            ...      ...  ...        ...    ...         ...\n",
              "521            NaN        Lesotho -29.6100  ...        0.0    0.0      Africa\n",
              "524            NaN        Algeria  28.0339  ...        0.0    0.0      Africa\n",
              "526            NaN         Angola -11.2027  ...        0.0    0.0      Africa\n",
              "546            NaN          Benin   9.3077  ...        0.0    0.0      Africa\n",
              "553            NaN   Burkina Faso  12.2383  ...        0.0    0.0      Africa\n",
              "\n",
              "[100 rows x 10 columns]"
            ]
          },
          "metadata": {
            "tags": []
          },
          "execution_count": 28
        }
      ]
    },
    {
      "cell_type": "code",
      "metadata": {
        "colab": {
          "base_uri": "https://localhost:8080/",
          "height": 1000
        },
        "id": "62buk5DwDCCA",
        "outputId": "80a2e289-46f2-4d38-eb0b-949de956f72f"
      },
      "source": [
        "#그래프 크기 조절\n",
        "plt.rcParams[\"figure.figsize\"] = (12, 30)\n",
        "Country_Confirmed.plot(kind='barh')"
      ],
      "execution_count": 29,
      "outputs": [
        {
          "output_type": "execute_result",
          "data": {
            "text/plain": [
              "<matplotlib.axes._subplots.AxesSubplot at 0x7f7843548890>"
            ]
          },
          "metadata": {
            "tags": []
          },
          "execution_count": 29
        },
        {
          "output_type": "display_data",
          "data": {
            "image/png": "[encoded data removed]",
            "text/plain": [
              "<Figure size 864x2160 with 1 Axes>"
            ]
          },
          "metadata": {
            "tags": [],
            "needs_background": "light"
          }
        }
      ]
    },
    {
      "cell_type": "code",
      "metadata": {
        "colab": {
          "base_uri": "https://localhost:8080/",
          "height": 1000
        },
        "id": "AQSo-OvS-nAY",
        "outputId": "f0347fd2-100c-4f18-a62d-b41f5167f9f2"
      },
      "source": [
        "Region_Deaths.plot(kind='barh')"
      ],
      "execution_count": 30,
      "outputs": [
        {
          "output_type": "execute_result",
          "data": {
            "text/plain": [
              "<matplotlib.axes._subplots.AxesSubplot at 0x7f78435f7810>"
            ]
          },
          "metadata": {
            "tags": []
          },
          "execution_count": 30
        },
        {
          "output_type": "display_data",
          "data": {
            "image/png": "[encoded data removed]",
            "text/plain": [
              "<Figure size 864x2160 with 1 Axes>"
            ]
          },
          "metadata": {
            "tags": [],
            "needs_background": "light"
          }
        }
      ]
    },
    {
      "cell_type": "markdown",
      "metadata": {
        "id": "p7b0vg0e_8U4"
      },
      "source": [
        "# 히스토그램"
      ]
    },
    {
      "cell_type": "code",
      "metadata": {
        "colab": {
          "base_uri": "https://localhost:8080/",
          "height": 1000
        },
        "id": "GSQwyF2w-7If",
        "outputId": "3ed392c0-9aef-4d1a-9451-e1e404423ffb"
      },
      "source": [
        "# WHO 지역별 데이터 빈도수\n",
        "Region_Deaths.plot(kind='hist')"
      ],
      "execution_count": 31,
      "outputs": [
        {
          "output_type": "execute_result",
          "data": {
            "text/plain": [
              "<matplotlib.axes._subplots.AxesSubplot at 0x7f7843cf0e10>"
            ]
          },
          "metadata": {
            "tags": []
          },
          "execution_count": 31
        },
        {
          "output_type": "display_data",
          "data": {
            "image/png": "[encoded data removed]",
            "text/plain": [
              "<Figure size 864x2160 with 1 Axes>"
            ]
          },
          "metadata": {
            "tags": [],
            "needs_background": "light"
          }
        }
      ]
    },
    {
      "cell_type": "code",
      "metadata": {
        "colab": {
          "base_uri": "https://localhost:8080/",
          "height": 1000
        },
        "id": "DEAVUC8bAmMY",
        "outputId": "c90fdc48-885a-461c-f6a3-d782263c793b"
      },
      "source": [
        "Region_Confirmed.plot(kind='hist')"
      ],
      "execution_count": 32,
      "outputs": [
        {
          "output_type": "execute_result",
          "data": {
            "text/plain": [
              "<matplotlib.axes._subplots.AxesSubplot at 0x7f7843d534d0>"
            ]
          },
          "metadata": {
            "tags": []
          },
          "execution_count": 32
        },
        {
          "output_type": "display_data",
          "data": {
            "image/png": "[encoded data removed]",
            "text/plain": [
              "<Figure size 864x2160 with 1 Axes>"
            ]
          },
          "metadata": {
            "tags": [],
            "needs_background": "light"
          }
        }
      ]
    },
    {
      "cell_type": "code",
      "metadata": {
        "id": "mOjx1BPYBUCo"
      },
      "source": [
        ""
      ],
      "execution_count": 32,
      "outputs": []
    }
  ]
}