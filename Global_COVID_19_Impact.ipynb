{
  "nbformat": 4,
  "nbformat_minor": 0,
  "metadata": {
    "colab": {
      "name": "Global_COVID-19_Impact.ipynb",
      "provenance": [],
      "collapsed_sections": [
        "zd-LfXsFKufW",
        "s_F9SRpmNYYU",
        "hRJxC2jP-Yvb"
      ],
      "toc_visible": true,
      "authorship_tag": "ABX9TyNwH1iV5G1A5/Hb4yjAtc0R",
      "include_colab_link": true
    },
    "kernelspec": {
      "display_name": "Python 3",
      "name": "python3"
    },
    "language_info": {
      "name": "python"
    }
  },
  "cells": [
    {
      "cell_type": "markdown",
      "metadata": {
        "id": "view-in-github",
        "colab_type": "text"
      },
      "source": [
        "<a href=\"https://colab.research.google.com/github/boramkim0514/AI-Group-Project/blob/main/Global_COVID_19_Impact.ipynb\" target=\"_parent\"><img src=\"https://colab.research.google.com/assets/colab-badge.svg\" alt=\"Open In Colab\"/></a>"
      ]
    },
    {
      "cell_type": "markdown",
      "metadata": {
        "id": "BvOaL8Gwqo2n"
      },
      "source": [
        "프레임워크 구축"
      ]
    },
    {
      "cell_type": "code",
      "metadata": {
        "id": "EMH08x2P6-GC"
      },
      "source": [
        "import matplotlib.pyplot as plt\n",
        "import pandas as pd\n",
        "import seaborn as sns\n",
        "import numpy as np"
      ],
      "execution_count": null,
      "outputs": []
    },
    {
      "cell_type": "code",
      "metadata": {
        "id": "-Ws7EkAQXrLN"
      },
      "source": [
        "from google.colab import drive\n",
        "drive.mount('/content/covid_19_clean_complete.csv')"
      ],
      "execution_count": null,
      "outputs": []
    },
    {
      "cell_type": "markdown",
      "metadata": {
        "id": "RPiGRnVy63IN"
      },
      "source": [
        "Load Data"
      ]
    },
    {
      "cell_type": "code",
      "metadata": {
        "id": "pJLOWnvb7ECE"
      },
      "source": [
        "df = pd.read_csv(\"/content/covid_19_clean_complete(1).csv\")\n",
        "df"
      ],
      "execution_count": null,
      "outputs": []
    },
    {
      "cell_type": "markdown",
      "metadata": {
        "id": "j43YFvcqwUSp"
      },
      "source": [
        "0. 가설 세우기\n",
        "* 인접 국가의 코로나 감염율 연관성 비교 \n",
        "* 대륙 별/나라별 사망률 비교"
      ]
    },
    {
      "cell_type": "markdown",
      "metadata": {
        "id": "QZOhtDstF8HX"
      },
      "source": [
        "#  1.집계 목적\n",
        "카테고리  별 통계 현황 집계 **조회** 및 시각화\n",
        " * 날짜별 \n",
        " * 나라별 \n",
        " * 지역별 "
      ]
    },
    {
      "cell_type": "code",
      "metadata": {
        "colab": {
          "base_uri": "https://localhost:8080/",
          "height": 241
        },
        "id": "2_mqNDcy-u23",
        "outputId": "507f3704-e95f-47b0-8072-b979e1d1405b"
      },
      "source": [
        "df.tail()"
      ],
      "execution_count": null,
      "outputs": [
        {
          "output_type": "execute_result",
          "data": {
            "text/html": [
              "<div>\n",
              "<style scoped>\n",
              "    .dataframe tbody tr th:only-of-type {\n",
              "        vertical-align: middle;\n",
              "    }\n",
              "\n",
              "    .dataframe tbody tr th {\n",
              "        vertical-align: top;\n",
              "    }\n",
              "\n",
              "    .dataframe thead th {\n",
              "        text-align: right;\n",
              "    }\n",
              "</style>\n",
              "<table border=\"1\" class=\"dataframe\">\n",
              "  <thead>\n",
              "    <tr style=\"text-align: right;\">\n",
              "      <th></th>\n",
              "      <th>Province/State</th>\n",
              "      <th>Country/Region</th>\n",
              "      <th>Lat</th>\n",
              "      <th>Long</th>\n",
              "      <th>Date</th>\n",
              "      <th>Confirmed</th>\n",
              "      <th>Deaths</th>\n",
              "      <th>Recovered</th>\n",
              "      <th>Active</th>\n",
              "      <th>WHO Region</th>\n",
              "    </tr>\n",
              "  </thead>\n",
              "  <tbody>\n",
              "    <tr>\n",
              "      <th>49063</th>\n",
              "      <td>NaN</td>\n",
              "      <td>Sao Tome and Principe</td>\n",
              "      <td>0.186400</td>\n",
              "      <td>6.613100</td>\n",
              "      <td>2020-07-27</td>\n",
              "      <td>865</td>\n",
              "      <td>14</td>\n",
              "      <td>734</td>\n",
              "      <td>117</td>\n",
              "      <td>Africa</td>\n",
              "    </tr>\n",
              "    <tr>\n",
              "      <th>49064</th>\n",
              "      <td>NaN</td>\n",
              "      <td>Yemen</td>\n",
              "      <td>15.552727</td>\n",
              "      <td>48.516388</td>\n",
              "      <td>2020-07-27</td>\n",
              "      <td>1691</td>\n",
              "      <td>483</td>\n",
              "      <td>833</td>\n",
              "      <td>375</td>\n",
              "      <td>Eastern Mediterranean</td>\n",
              "    </tr>\n",
              "    <tr>\n",
              "      <th>49065</th>\n",
              "      <td>NaN</td>\n",
              "      <td>Comoros</td>\n",
              "      <td>-11.645500</td>\n",
              "      <td>43.333300</td>\n",
              "      <td>2020-07-27</td>\n",
              "      <td>354</td>\n",
              "      <td>7</td>\n",
              "      <td>328</td>\n",
              "      <td>19</td>\n",
              "      <td>Africa</td>\n",
              "    </tr>\n",
              "    <tr>\n",
              "      <th>49066</th>\n",
              "      <td>NaN</td>\n",
              "      <td>Tajikistan</td>\n",
              "      <td>38.861000</td>\n",
              "      <td>71.276100</td>\n",
              "      <td>2020-07-27</td>\n",
              "      <td>7235</td>\n",
              "      <td>60</td>\n",
              "      <td>6028</td>\n",
              "      <td>1147</td>\n",
              "      <td>Europe</td>\n",
              "    </tr>\n",
              "    <tr>\n",
              "      <th>49067</th>\n",
              "      <td>NaN</td>\n",
              "      <td>Lesotho</td>\n",
              "      <td>-29.610000</td>\n",
              "      <td>28.233600</td>\n",
              "      <td>2020-07-27</td>\n",
              "      <td>505</td>\n",
              "      <td>12</td>\n",
              "      <td>128</td>\n",
              "      <td>365</td>\n",
              "      <td>Africa</td>\n",
              "    </tr>\n",
              "  </tbody>\n",
              "</table>\n",
              "</div>"
            ],
            "text/plain": [
              "      Province/State         Country/Region  ...  Active             WHO Region\n",
              "49063            NaN  Sao Tome and Principe  ...     117                 Africa\n",
              "49064            NaN                  Yemen  ...     375  Eastern Mediterranean\n",
              "49065            NaN                Comoros  ...      19                 Africa\n",
              "49066            NaN             Tajikistan  ...    1147                 Europe\n",
              "49067            NaN                Lesotho  ...     365                 Africa\n",
              "\n",
              "[5 rows x 10 columns]"
            ]
          },
          "metadata": {
            "tags": []
          },
          "execution_count": 10
        }
      ]
    },
    {
      "cell_type": "markdown",
      "metadata": {
        "id": "_rj81CJkFzQV"
      },
      "source": [
        "#  2.데이터 살펴보기"
      ]
    },
    {
      "cell_type": "markdown",
      "metadata": {
        "id": "2XzMfxI1JNQW"
      },
      "source": [
        "## 2-1. NaN값 및 Data Type 확인"
      ]
    },
    {
      "cell_type": "code",
      "metadata": {
        "colab": {
          "base_uri": "https://localhost:8080/"
        },
        "id": "x4EQIzV2Ft_1",
        "outputId": "edfd3c1e-3f1c-4123-9539-6e4ba0f0e438"
      },
      "source": [
        "df.info()"
      ],
      "execution_count": null,
      "outputs": [
        {
          "output_type": "stream",
          "text": [
            "<class 'pandas.core.frame.DataFrame'>\n",
            "RangeIndex: 49068 entries, 0 to 49067\n",
            "Data columns (total 10 columns):\n",
            " #   Column          Non-Null Count  Dtype  \n",
            "---  ------          --------------  -----  \n",
            " 0   Province/State  14664 non-null  object \n",
            " 1   Country/Region  49068 non-null  object \n",
            " 2   Lat             49068 non-null  float64\n",
            " 3   Long            49068 non-null  float64\n",
            " 4   Date            49068 non-null  object \n",
            " 5   Confirmed       49068 non-null  int64  \n",
            " 6   Deaths          49068 non-null  int64  \n",
            " 7   Recovered       49068 non-null  int64  \n",
            " 8   Active          49068 non-null  int64  \n",
            " 9   WHO Region      49068 non-null  object \n",
            "dtypes: float64(2), int64(4), object(4)\n",
            "memory usage: 3.7+ MB\n"
          ],
          "name": "stdout"
        }
      ]
    },
    {
      "cell_type": "code",
      "metadata": {
        "colab": {
          "base_uri": "https://localhost:8080/",
          "height": 300
        },
        "id": "3AdKaiFBFybO",
        "outputId": "fbfcf414-8546-455a-c9a2-68ad5d163fca"
      },
      "source": [
        "df.describe()"
      ],
      "execution_count": null,
      "outputs": [
        {
          "output_type": "execute_result",
          "data": {
            "text/html": [
              "<div>\n",
              "<style scoped>\n",
              "    .dataframe tbody tr th:only-of-type {\n",
              "        vertical-align: middle;\n",
              "    }\n",
              "\n",
              "    .dataframe tbody tr th {\n",
              "        vertical-align: top;\n",
              "    }\n",
              "\n",
              "    .dataframe thead th {\n",
              "        text-align: right;\n",
              "    }\n",
              "</style>\n",
              "<table border=\"1\" class=\"dataframe\">\n",
              "  <thead>\n",
              "    <tr style=\"text-align: right;\">\n",
              "      <th></th>\n",
              "      <th>Lat</th>\n",
              "      <th>Long</th>\n",
              "      <th>Confirmed</th>\n",
              "      <th>Deaths</th>\n",
              "      <th>Recovered</th>\n",
              "      <th>Active</th>\n",
              "    </tr>\n",
              "  </thead>\n",
              "  <tbody>\n",
              "    <tr>\n",
              "      <th>count</th>\n",
              "      <td>49068.000000</td>\n",
              "      <td>49068.000000</td>\n",
              "      <td>4.906800e+04</td>\n",
              "      <td>49068.000000</td>\n",
              "      <td>4.906800e+04</td>\n",
              "      <td>4.906800e+04</td>\n",
              "    </tr>\n",
              "    <tr>\n",
              "      <th>mean</th>\n",
              "      <td>21.433730</td>\n",
              "      <td>23.528236</td>\n",
              "      <td>1.688490e+04</td>\n",
              "      <td>884.179160</td>\n",
              "      <td>7.915713e+03</td>\n",
              "      <td>8.085012e+03</td>\n",
              "    </tr>\n",
              "    <tr>\n",
              "      <th>std</th>\n",
              "      <td>24.950320</td>\n",
              "      <td>70.442740</td>\n",
              "      <td>1.273002e+05</td>\n",
              "      <td>6313.584411</td>\n",
              "      <td>5.480092e+04</td>\n",
              "      <td>7.625890e+04</td>\n",
              "    </tr>\n",
              "    <tr>\n",
              "      <th>min</th>\n",
              "      <td>-51.796300</td>\n",
              "      <td>-135.000000</td>\n",
              "      <td>0.000000e+00</td>\n",
              "      <td>0.000000</td>\n",
              "      <td>0.000000e+00</td>\n",
              "      <td>-1.400000e+01</td>\n",
              "    </tr>\n",
              "    <tr>\n",
              "      <th>25%</th>\n",
              "      <td>7.873054</td>\n",
              "      <td>-15.310100</td>\n",
              "      <td>4.000000e+00</td>\n",
              "      <td>0.000000</td>\n",
              "      <td>0.000000e+00</td>\n",
              "      <td>0.000000e+00</td>\n",
              "    </tr>\n",
              "    <tr>\n",
              "      <th>50%</th>\n",
              "      <td>23.634500</td>\n",
              "      <td>21.745300</td>\n",
              "      <td>1.680000e+02</td>\n",
              "      <td>2.000000</td>\n",
              "      <td>2.900000e+01</td>\n",
              "      <td>2.600000e+01</td>\n",
              "    </tr>\n",
              "    <tr>\n",
              "      <th>75%</th>\n",
              "      <td>41.204380</td>\n",
              "      <td>80.771797</td>\n",
              "      <td>1.518250e+03</td>\n",
              "      <td>30.000000</td>\n",
              "      <td>6.660000e+02</td>\n",
              "      <td>6.060000e+02</td>\n",
              "    </tr>\n",
              "    <tr>\n",
              "      <th>max</th>\n",
              "      <td>71.706900</td>\n",
              "      <td>178.065000</td>\n",
              "      <td>4.290259e+06</td>\n",
              "      <td>148011.000000</td>\n",
              "      <td>1.846641e+06</td>\n",
              "      <td>2.816444e+06</td>\n",
              "    </tr>\n",
              "  </tbody>\n",
              "</table>\n",
              "</div>"
            ],
            "text/plain": [
              "                Lat          Long  ...     Recovered        Active\n",
              "count  49068.000000  49068.000000  ...  4.906800e+04  4.906800e+04\n",
              "mean      21.433730     23.528236  ...  7.915713e+03  8.085012e+03\n",
              "std       24.950320     70.442740  ...  5.480092e+04  7.625890e+04\n",
              "min      -51.796300   -135.000000  ...  0.000000e+00 -1.400000e+01\n",
              "25%        7.873054    -15.310100  ...  0.000000e+00  0.000000e+00\n",
              "50%       23.634500     21.745300  ...  2.900000e+01  2.600000e+01\n",
              "75%       41.204380     80.771797  ...  6.660000e+02  6.060000e+02\n",
              "max       71.706900    178.065000  ...  1.846641e+06  2.816444e+06\n",
              "\n",
              "[8 rows x 6 columns]"
            ]
          },
          "metadata": {
            "tags": []
          },
          "execution_count": 12
        }
      ]
    },
    {
      "cell_type": "markdown",
      "metadata": {
        "id": "ba_oTssriabA"
      },
      "source": [
        "## 2-2.  날짜 변환(datetime type)"
      ]
    },
    {
      "cell_type": "code",
      "metadata": {
        "id": "H5AyNaO9jvat",
        "colab": {
          "base_uri": "https://localhost:8080/"
        },
        "outputId": "ab5faf5e-7cfe-461f-daa1-40ecef6e08c4"
      },
      "source": [
        "df['Date'] = pd.to_datetime(df['Date'])\n",
        "df['Date']"
      ],
      "execution_count": null,
      "outputs": [
        {
          "output_type": "execute_result",
          "data": {
            "text/plain": [
              "0       2020-01-22\n",
              "1       2020-01-22\n",
              "2       2020-01-22\n",
              "3       2020-01-22\n",
              "4       2020-01-22\n",
              "           ...    \n",
              "49063   2020-07-27\n",
              "49064   2020-07-27\n",
              "49065   2020-07-27\n",
              "49066   2020-07-27\n",
              "49067   2020-07-27\n",
              "Name: Date, Length: 49068, dtype: datetime64[ns]"
            ]
          },
          "metadata": {
            "tags": []
          },
          "execution_count": 13
        }
      ]
    },
    {
      "cell_type": "code",
      "metadata": {
        "id": "UrgihsZ4lNXS",
        "colab": {
          "base_uri": "https://localhost:8080/"
        },
        "outputId": "db6a441a-3bef-4a44-9618-805913215d83"
      },
      "source": [
        "df.info()"
      ],
      "execution_count": null,
      "outputs": [
        {
          "output_type": "stream",
          "text": [
            "<class 'pandas.core.frame.DataFrame'>\n",
            "RangeIndex: 49068 entries, 0 to 49067\n",
            "Data columns (total 10 columns):\n",
            " #   Column          Non-Null Count  Dtype         \n",
            "---  ------          --------------  -----         \n",
            " 0   Province/State  14664 non-null  object        \n",
            " 1   Country/Region  49068 non-null  object        \n",
            " 2   Lat             49068 non-null  float64       \n",
            " 3   Long            49068 non-null  float64       \n",
            " 4   Date            49068 non-null  datetime64[ns]\n",
            " 5   Confirmed       49068 non-null  int64         \n",
            " 6   Deaths          49068 non-null  int64         \n",
            " 7   Recovered       49068 non-null  int64         \n",
            " 8   Active          49068 non-null  int64         \n",
            " 9   WHO Region      49068 non-null  object        \n",
            "dtypes: datetime64[ns](1), float64(2), int64(4), object(3)\n",
            "memory usage: 3.7+ MB\n"
          ],
          "name": "stdout"
        }
      ]
    },
    {
      "cell_type": "markdown",
      "metadata": {
        "id": "1uH6Tez3lcZ2"
      },
      "source": [
        "## 2-3. 날짜 데이터  분리(연도/월/**일**)"
      ]
    },
    {
      "cell_type": "code",
      "metadata": {
        "id": "GWZpL3BuijDg"
      },
      "source": [
        "#df['Year'] = df['Date'].dt.year\n",
        "df['Month'] = df['Date'].dt.month\n",
        "df['Day'] = df['Date'].dt.day"
      ],
      "execution_count": null,
      "outputs": []
    },
    {
      "cell_type": "code",
      "metadata": {
        "id": "fHM2VL5Nj3y6",
        "colab": {
          "base_uri": "https://localhost:8080/"
        },
        "outputId": "961786a9-09cb-4832-e422-736d306d0037"
      },
      "source": [
        "df.info()"
      ],
      "execution_count": null,
      "outputs": [
        {
          "output_type": "stream",
          "text": [
            "<class 'pandas.core.frame.DataFrame'>\n",
            "RangeIndex: 49068 entries, 0 to 49067\n",
            "Data columns (total 9 columns):\n",
            " #   Column          Non-Null Count  Dtype         \n",
            "---  ------          --------------  -----         \n",
            " 0   Country/Region  49068 non-null  object        \n",
            " 1   Date            49068 non-null  datetime64[ns]\n",
            " 2   Confirmed       49068 non-null  int64         \n",
            " 3   Deaths          49068 non-null  int64         \n",
            " 4   Recovered       49068 non-null  int64         \n",
            " 5   Active          49068 non-null  int64         \n",
            " 6   WHO Region      49068 non-null  object        \n",
            " 7   Month           49068 non-null  int64         \n",
            " 8   Day             49068 non-null  int64         \n",
            "dtypes: datetime64[ns](1), int64(6), object(2)\n",
            "memory usage: 3.4+ MB\n"
          ],
          "name": "stdout"
        }
      ]
    },
    {
      "cell_type": "markdown",
      "metadata": {
        "id": "Il6ZnH0mEFvt"
      },
      "source": [
        "# 3.데이터 전처리\n",
        " * NaN 값 처리(0, 평균값 채워주기)\n",
        " * 중복값(필요에 따라)\n"
      ]
    },
    {
      "cell_type": "markdown",
      "metadata": {
        "id": "x7V_VhiBwRk-"
      },
      "source": [
        "###  의미없는 불필요한 컬럼 삭제 (Province/State, Year, Long, Lat)"
      ]
    },
    {
      "cell_type": "code",
      "metadata": {
        "id": "P9whJ_7nwoPp"
      },
      "source": [
        "df.drop(['Province/State'], axis=1, inplace=True)"
      ],
      "execution_count": null,
      "outputs": []
    },
    {
      "cell_type": "code",
      "metadata": {
        "id": "WrppnqzSxLGr"
      },
      "source": [
        "#df.drop(['Year'], axis=1, inplace=True)"
      ],
      "execution_count": null,
      "outputs": []
    },
    {
      "cell_type": "code",
      "metadata": {
        "id": "Dn_H3cxgwfPs"
      },
      "source": [
        "df.drop(['Lat','Long'], axis=1, inplace=True)"
      ],
      "execution_count": null,
      "outputs": []
    },
    {
      "cell_type": "code",
      "metadata": {
        "id": "5BuG42Hqx_Ql"
      },
      "source": [
        "#df.drop(['Date'], axis=1, inplace=True)"
      ],
      "execution_count": null,
      "outputs": []
    },
    {
      "cell_type": "code",
      "metadata": {
        "id": "EsgFkhjDzPMs"
      },
      "source": [
        "df_new = df.loc[(df['Confirmed'] == 0) & (df['Deaths'] == 0)].index\n",
        "df_new_drop = df.drop(df_new, axis=0)\n",
        "# df_idx = df.loc[df[feature_name] == 0].index\n",
        "# df_new = df.drop(df_idx, axis=0)"
      ],
      "execution_count": null,
      "outputs": []
    },
    {
      "cell_type": "code",
      "metadata": {
        "colab": {
          "base_uri": "https://localhost:8080/",
          "height": 424
        },
        "id": "Dw4RrJXLU6Jl",
        "outputId": "30830ac4-1904-462a-d9ad-a5e37eeb8ac1"
      },
      "source": [
        "#나라 이름 기준으로 compute ???\n",
        "df_new_drop"
      ],
      "execution_count": null,
      "outputs": [
        {
          "output_type": "execute_result",
          "data": {
            "text/html": [
              "<div>\n",
              "<style scoped>\n",
              "    .dataframe tbody tr th:only-of-type {\n",
              "        vertical-align: middle;\n",
              "    }\n",
              "\n",
              "    .dataframe tbody tr th {\n",
              "        vertical-align: top;\n",
              "    }\n",
              "\n",
              "    .dataframe thead th {\n",
              "        text-align: right;\n",
              "    }\n",
              "</style>\n",
              "<table border=\"1\" class=\"dataframe\">\n",
              "  <thead>\n",
              "    <tr style=\"text-align: right;\">\n",
              "      <th></th>\n",
              "      <th>Country/Region</th>\n",
              "      <th>Date</th>\n",
              "      <th>Confirmed</th>\n",
              "      <th>Deaths</th>\n",
              "      <th>Recovered</th>\n",
              "      <th>Active</th>\n",
              "      <th>WHO Region</th>\n",
              "      <th>Month</th>\n",
              "      <th>Day</th>\n",
              "    </tr>\n",
              "  </thead>\n",
              "  <tbody>\n",
              "    <tr>\n",
              "      <th>48</th>\n",
              "      <td>China</td>\n",
              "      <td>2020-01-22</td>\n",
              "      <td>1</td>\n",
              "      <td>0</td>\n",
              "      <td>0</td>\n",
              "      <td>1</td>\n",
              "      <td>Western Pacific</td>\n",
              "      <td>1</td>\n",
              "      <td>22</td>\n",
              "    </tr>\n",
              "    <tr>\n",
              "      <th>49</th>\n",
              "      <td>China</td>\n",
              "      <td>2020-01-22</td>\n",
              "      <td>14</td>\n",
              "      <td>0</td>\n",
              "      <td>0</td>\n",
              "      <td>14</td>\n",
              "      <td>Western Pacific</td>\n",
              "      <td>1</td>\n",
              "      <td>22</td>\n",
              "    </tr>\n",
              "    <tr>\n",
              "      <th>50</th>\n",
              "      <td>China</td>\n",
              "      <td>2020-01-22</td>\n",
              "      <td>6</td>\n",
              "      <td>0</td>\n",
              "      <td>0</td>\n",
              "      <td>6</td>\n",
              "      <td>Western Pacific</td>\n",
              "      <td>1</td>\n",
              "      <td>22</td>\n",
              "    </tr>\n",
              "    <tr>\n",
              "      <th>51</th>\n",
              "      <td>China</td>\n",
              "      <td>2020-01-22</td>\n",
              "      <td>1</td>\n",
              "      <td>0</td>\n",
              "      <td>0</td>\n",
              "      <td>1</td>\n",
              "      <td>Western Pacific</td>\n",
              "      <td>1</td>\n",
              "      <td>22</td>\n",
              "    </tr>\n",
              "    <tr>\n",
              "      <th>53</th>\n",
              "      <td>China</td>\n",
              "      <td>2020-01-22</td>\n",
              "      <td>26</td>\n",
              "      <td>0</td>\n",
              "      <td>0</td>\n",
              "      <td>26</td>\n",
              "      <td>Western Pacific</td>\n",
              "      <td>1</td>\n",
              "      <td>22</td>\n",
              "    </tr>\n",
              "    <tr>\n",
              "      <th>...</th>\n",
              "      <td>...</td>\n",
              "      <td>...</td>\n",
              "      <td>...</td>\n",
              "      <td>...</td>\n",
              "      <td>...</td>\n",
              "      <td>...</td>\n",
              "      <td>...</td>\n",
              "      <td>...</td>\n",
              "      <td>...</td>\n",
              "    </tr>\n",
              "    <tr>\n",
              "      <th>49063</th>\n",
              "      <td>Sao Tome and Principe</td>\n",
              "      <td>2020-07-27</td>\n",
              "      <td>865</td>\n",
              "      <td>14</td>\n",
              "      <td>734</td>\n",
              "      <td>117</td>\n",
              "      <td>Africa</td>\n",
              "      <td>7</td>\n",
              "      <td>27</td>\n",
              "    </tr>\n",
              "    <tr>\n",
              "      <th>49064</th>\n",
              "      <td>Yemen</td>\n",
              "      <td>2020-07-27</td>\n",
              "      <td>1691</td>\n",
              "      <td>483</td>\n",
              "      <td>833</td>\n",
              "      <td>375</td>\n",
              "      <td>Eastern Mediterranean</td>\n",
              "      <td>7</td>\n",
              "      <td>27</td>\n",
              "    </tr>\n",
              "    <tr>\n",
              "      <th>49065</th>\n",
              "      <td>Comoros</td>\n",
              "      <td>2020-07-27</td>\n",
              "      <td>354</td>\n",
              "      <td>7</td>\n",
              "      <td>328</td>\n",
              "      <td>19</td>\n",
              "      <td>Africa</td>\n",
              "      <td>7</td>\n",
              "      <td>27</td>\n",
              "    </tr>\n",
              "    <tr>\n",
              "      <th>49066</th>\n",
              "      <td>Tajikistan</td>\n",
              "      <td>2020-07-27</td>\n",
              "      <td>7235</td>\n",
              "      <td>60</td>\n",
              "      <td>6028</td>\n",
              "      <td>1147</td>\n",
              "      <td>Europe</td>\n",
              "      <td>7</td>\n",
              "      <td>27</td>\n",
              "    </tr>\n",
              "    <tr>\n",
              "      <th>49067</th>\n",
              "      <td>Lesotho</td>\n",
              "      <td>2020-07-27</td>\n",
              "      <td>505</td>\n",
              "      <td>12</td>\n",
              "      <td>128</td>\n",
              "      <td>365</td>\n",
              "      <td>Africa</td>\n",
              "      <td>7</td>\n",
              "      <td>27</td>\n",
              "    </tr>\n",
              "  </tbody>\n",
              "</table>\n",
              "<p>39009 rows × 9 columns</p>\n",
              "</div>"
            ],
            "text/plain": [
              "              Country/Region       Date  ...  Month  Day\n",
              "48                     China 2020-01-22  ...      1   22\n",
              "49                     China 2020-01-22  ...      1   22\n",
              "50                     China 2020-01-22  ...      1   22\n",
              "51                     China 2020-01-22  ...      1   22\n",
              "53                     China 2020-01-22  ...      1   22\n",
              "...                      ...        ...  ...    ...  ...\n",
              "49063  Sao Tome and Principe 2020-07-27  ...      7   27\n",
              "49064                  Yemen 2020-07-27  ...      7   27\n",
              "49065                Comoros 2020-07-27  ...      7   27\n",
              "49066             Tajikistan 2020-07-27  ...      7   27\n",
              "49067                Lesotho 2020-07-27  ...      7   27\n",
              "\n",
              "[39009 rows x 9 columns]"
            ]
          },
          "metadata": {
            "tags": []
          },
          "execution_count": 22
        }
      ]
    },
    {
      "cell_type": "code",
      "metadata": {
        "colab": {
          "base_uri": "https://localhost:8080/"
        },
        "id": "s-HXi9HRbasr",
        "outputId": "f2a428e8-ee11-4ddb-aef6-5afbc64d5bd2"
      },
      "source": [
        "plt.show"
      ],
      "execution_count": null,
      "outputs": [
        {
          "output_type": "execute_result",
          "data": {
            "text/plain": [
              "<function matplotlib.pyplot.show>"
            ]
          },
          "metadata": {
            "tags": []
          },
          "execution_count": 27
        }
      ]
    },
    {
      "cell_type": "code",
      "metadata": {
        "id": "75sxMf4797tw"
      },
      "source": [
        "df_new_drop.reset_index(drop=True, inplace=True) # index reset"
      ],
      "execution_count": null,
      "outputs": []
    },
    {
      "cell_type": "code",
      "metadata": {
        "id": "m6NQJE6jeqOF"
      },
      "source": [
        "df_new_drop"
      ],
      "execution_count": null,
      "outputs": []
    },
    {
      "cell_type": "code",
      "metadata": {
        "id": "yKkaLL1RECUg"
      },
      "source": [
        "np.arange(1, 17).reshape(8, 2z)"
      ],
      "execution_count": null,
      "outputs": []
    },
    {
      "cell_type": "code",
      "metadata": {
        "id": "z4whxTKYDaP-"
      },
      "source": [
        "eg = np.arange(1, 73).reshape(2, 3, 4, 3)\n",
        "eg[:,:,:,:]"
      ],
      "execution_count": null,
      "outputs": []
    },
    {
      "cell_type": "code",
      "metadata": {
        "id": "9P9jhgzy4NsG"
      },
      "source": [
        "df_new.head()"
      ],
      "execution_count": null,
      "outputs": []
    },
    {
      "cell_type": "code",
      "metadata": {
        "id": "C2zYktgNyMdC"
      },
      "source": [
        "df.loc[df['Confirmed']==0]"
      ],
      "execution_count": null,
      "outputs": []
    },
    {
      "cell_type": "code",
      "metadata": {
        "id": "XJqTMZXN7ITH"
      },
      "source": [
        "df.loc[df[['Confirmed' == 0] & ['Deaths']== 0]].idx"
      ],
      "execution_count": null,
      "outputs": []
    },
    {
      "cell_type": "code",
      "metadata": {
        "id": "KLmtJln-wECO"
      },
      "source": [
        "df.loc[df['Deaths']==0]"
      ],
      "execution_count": null,
      "outputs": []
    },
    {
      "cell_type": "markdown",
      "metadata": {
        "id": "zd-LfXsFKufW"
      },
      "source": [
        "###WHO 지역 구분 살펴보기"
      ]
    },
    {
      "cell_type": "code",
      "metadata": {
        "id": "RrL2sSEuKZwd",
        "colab": {
          "base_uri": "https://localhost:8080/"
        },
        "outputId": "472a7f5b-1b7a-460f-f400-f75fe5f33c16"
      },
      "source": [
        "df['WHO Region'].unique()"
      ],
      "execution_count": null,
      "outputs": [
        {
          "output_type": "execute_result",
          "data": {
            "text/plain": [
              "array(['Eastern Mediterranean', 'Europe', 'Africa', 'Americas',\n",
              "       'Western Pacific', 'South-East Asia'], dtype=object)"
            ]
          },
          "metadata": {
            "tags": []
          },
          "execution_count": 28
        }
      ]
    },
    {
      "cell_type": "markdown",
      "metadata": {
        "id": "f4CNuinRzzUI"
      },
      "source": [
        "WHO 지역 기준으로 6개의 데이터셋으로 분류되어 있음을 알수 있다."
      ]
    },
    {
      "cell_type": "markdown",
      "metadata": {
        "id": "FVugSUG_Fvht"
      },
      "source": [
        "\n",
        "\n",
        "#  4.통계 현항 집계 조회 `groupby`\n",
        " * 날짜별 확진자/사망자 집계(총합계, 사망율)\n",
        " * 나라별 확진자/사망자 집계(총합계, 사망율)\n",
        " * 지역별 확진자/사망자 집계(총합계, 사망율)"
      ]
    },
    {
      "cell_type": "markdown",
      "metadata": {
        "id": "3dVnhSYnNc0F"
      },
      "source": [
        "###날짜  별 확진자/사망자 집계 조회"
      ]
    },
    {
      "cell_type": "code",
      "metadata": {
        "id": "ceaPnUlC_apI",
        "colab": {
          "base_uri": "https://localhost:8080/",
          "height": 512
        },
        "outputId": "32c3ea65-e999-4ac1-aa84-11474c9e5243"
      },
      "source": [
        "daily_stat = df.groupby(\"Date\")['Confirmed','Deaths'].sum()#날짜별 확진자/사망자 총합계\n",
        "daily_stat"
      ],
      "execution_count": null,
      "outputs": [
        {
          "output_type": "stream",
          "text": [
            "/usr/local/lib/python3.7/dist-packages/ipykernel_launcher.py:1: FutureWarning: Indexing with multiple keys (implicitly converted to a tuple of keys) will be deprecated, use a list instead.\n",
            "  \"\"\"Entry point for launching an IPython kernel.\n"
          ],
          "name": "stderr"
        },
        {
          "output_type": "execute_result",
          "data": {
            "text/html": [
              "<div>\n",
              "<style scoped>\n",
              "    .dataframe tbody tr th:only-of-type {\n",
              "        vertical-align: middle;\n",
              "    }\n",
              "\n",
              "    .dataframe tbody tr th {\n",
              "        vertical-align: top;\n",
              "    }\n",
              "\n",
              "    .dataframe thead th {\n",
              "        text-align: right;\n",
              "    }\n",
              "</style>\n",
              "<table border=\"1\" class=\"dataframe\">\n",
              "  <thead>\n",
              "    <tr style=\"text-align: right;\">\n",
              "      <th></th>\n",
              "      <th>Confirmed</th>\n",
              "      <th>Deaths</th>\n",
              "    </tr>\n",
              "    <tr>\n",
              "      <th>Date</th>\n",
              "      <th></th>\n",
              "      <th></th>\n",
              "    </tr>\n",
              "  </thead>\n",
              "  <tbody>\n",
              "    <tr>\n",
              "      <th>2020-01-22</th>\n",
              "      <td>555</td>\n",
              "      <td>17</td>\n",
              "    </tr>\n",
              "    <tr>\n",
              "      <th>2020-01-23</th>\n",
              "      <td>654</td>\n",
              "      <td>18</td>\n",
              "    </tr>\n",
              "    <tr>\n",
              "      <th>2020-01-24</th>\n",
              "      <td>941</td>\n",
              "      <td>26</td>\n",
              "    </tr>\n",
              "    <tr>\n",
              "      <th>2020-01-25</th>\n",
              "      <td>1434</td>\n",
              "      <td>42</td>\n",
              "    </tr>\n",
              "    <tr>\n",
              "      <th>2020-01-26</th>\n",
              "      <td>2118</td>\n",
              "      <td>56</td>\n",
              "    </tr>\n",
              "    <tr>\n",
              "      <th>...</th>\n",
              "      <td>...</td>\n",
              "      <td>...</td>\n",
              "    </tr>\n",
              "    <tr>\n",
              "      <th>2020-07-23</th>\n",
              "      <td>15510481</td>\n",
              "      <td>633506</td>\n",
              "    </tr>\n",
              "    <tr>\n",
              "      <th>2020-07-24</th>\n",
              "      <td>15791645</td>\n",
              "      <td>639650</td>\n",
              "    </tr>\n",
              "    <tr>\n",
              "      <th>2020-07-25</th>\n",
              "      <td>16047190</td>\n",
              "      <td>644517</td>\n",
              "    </tr>\n",
              "    <tr>\n",
              "      <th>2020-07-26</th>\n",
              "      <td>16251796</td>\n",
              "      <td>648621</td>\n",
              "    </tr>\n",
              "    <tr>\n",
              "      <th>2020-07-27</th>\n",
              "      <td>16480485</td>\n",
              "      <td>654036</td>\n",
              "    </tr>\n",
              "  </tbody>\n",
              "</table>\n",
              "<p>188 rows × 2 columns</p>\n",
              "</div>"
            ],
            "text/plain": [
              "            Confirmed  Deaths\n",
              "Date                         \n",
              "2020-01-22        555      17\n",
              "2020-01-23        654      18\n",
              "2020-01-24        941      26\n",
              "2020-01-25       1434      42\n",
              "2020-01-26       2118      56\n",
              "...               ...     ...\n",
              "2020-07-23   15510481  633506\n",
              "2020-07-24   15791645  639650\n",
              "2020-07-25   16047190  644517\n",
              "2020-07-26   16251796  648621\n",
              "2020-07-27   16480485  654036\n",
              "\n",
              "[188 rows x 2 columns]"
            ]
          },
          "metadata": {
            "tags": []
          },
          "execution_count": 29
        }
      ]
    },
    {
      "cell_type": "code",
      "metadata": {
        "id": "IQgA38GMRUCs"
      },
      "source": [
        "before_covid = df2['2012-01-01':'2019-12-01']\n",
        "after_covid = df2['2020-01':'2020-12']\n",
        "\n",
        "before_covid = before_covid.groupby('월').mean()\n",
        "after_covid_groupedby_year = after_covid.pivot('월','연도')\n",
        "\n",
        "fig, axes = plt.subplots(2,1,\n",
        "                         tight_layout=True\n",
        "                         )\n",
        "\n",
        "axes[0].plot(before_covid['구인인원'], label='코로나 이전(2012-2019)')\n",
        "axes[0].plot(after_covid_groupedby_year['구인인원'], label='코로나 이후(2020)')\n",
        "axes[0].legend(prop={'size': 18})\n",
        "axes[1].fill_between(df_new_covid_time2.index, df_new_covid_time2['new'])\n",
        "plt.title('2020년 코로나 신규확진자 추이', fontsize=30)\n",
        "plt.show()"
      ],
      "execution_count": null,
      "outputs": []
    },
    {
      "cell_type": "markdown",
      "metadata": {
        "id": "s_F9SRpmNYYU"
      },
      "source": [
        "### 국가별 확진자/사망자 집계 조회"
      ]
    },
    {
      "cell_type": "code",
      "metadata": {
        "id": "jY2UkKJL60fI",
        "colab": {
          "base_uri": "https://localhost:8080/",
          "height": 512
        },
        "outputId": "c8019f1f-836f-44e9-b900-ade485a38af7"
      },
      "source": [
        "country_stat = df.groupby(\"Country/Region\")['Confirmed','Deaths'].sum()\n",
        "country_stat"
      ],
      "execution_count": null,
      "outputs": [
        {
          "output_type": "stream",
          "text": [
            "/usr/local/lib/python3.7/dist-packages/ipykernel_launcher.py:1: FutureWarning: Indexing with multiple keys (implicitly converted to a tuple of keys) will be deprecated, use a list instead.\n",
            "  \"\"\"Entry point for launching an IPython kernel.\n"
          ],
          "name": "stderr"
        },
        {
          "output_type": "execute_result",
          "data": {
            "text/html": [
              "<div>\n",
              "<style scoped>\n",
              "    .dataframe tbody tr th:only-of-type {\n",
              "        vertical-align: middle;\n",
              "    }\n",
              "\n",
              "    .dataframe tbody tr th {\n",
              "        vertical-align: top;\n",
              "    }\n",
              "\n",
              "    .dataframe thead th {\n",
              "        text-align: right;\n",
              "    }\n",
              "</style>\n",
              "<table border=\"1\" class=\"dataframe\">\n",
              "  <thead>\n",
              "    <tr style=\"text-align: right;\">\n",
              "      <th></th>\n",
              "      <th>Confirmed</th>\n",
              "      <th>Deaths</th>\n",
              "    </tr>\n",
              "    <tr>\n",
              "      <th>Country/Region</th>\n",
              "      <th></th>\n",
              "      <th></th>\n",
              "    </tr>\n",
              "  </thead>\n",
              "  <tbody>\n",
              "    <tr>\n",
              "      <th>Afghanistan</th>\n",
              "      <td>1936390</td>\n",
              "      <td>49098</td>\n",
              "    </tr>\n",
              "    <tr>\n",
              "      <th>Albania</th>\n",
              "      <td>196702</td>\n",
              "      <td>5708</td>\n",
              "    </tr>\n",
              "    <tr>\n",
              "      <th>Algeria</th>\n",
              "      <td>1179755</td>\n",
              "      <td>77972</td>\n",
              "    </tr>\n",
              "    <tr>\n",
              "      <th>Andorra</th>\n",
              "      <td>94404</td>\n",
              "      <td>5423</td>\n",
              "    </tr>\n",
              "    <tr>\n",
              "      <th>Angola</th>\n",
              "      <td>22662</td>\n",
              "      <td>1078</td>\n",
              "    </tr>\n",
              "    <tr>\n",
              "      <th>...</th>\n",
              "      <td>...</td>\n",
              "      <td>...</td>\n",
              "    </tr>\n",
              "    <tr>\n",
              "      <th>West Bank and Gaza</th>\n",
              "      <td>233461</td>\n",
              "      <td>1370</td>\n",
              "    </tr>\n",
              "    <tr>\n",
              "      <th>Western Sahara</th>\n",
              "      <td>901</td>\n",
              "      <td>63</td>\n",
              "    </tr>\n",
              "    <tr>\n",
              "      <th>Yemen</th>\n",
              "      <td>67180</td>\n",
              "      <td>17707</td>\n",
              "    </tr>\n",
              "    <tr>\n",
              "      <th>Zambia</th>\n",
              "      <td>129421</td>\n",
              "      <td>2643</td>\n",
              "    </tr>\n",
              "    <tr>\n",
              "      <th>Zimbabwe</th>\n",
              "      <td>50794</td>\n",
              "      <td>881</td>\n",
              "    </tr>\n",
              "  </tbody>\n",
              "</table>\n",
              "<p>187 rows × 2 columns</p>\n",
              "</div>"
            ],
            "text/plain": [
              "                    Confirmed  Deaths\n",
              "Country/Region                       \n",
              "Afghanistan           1936390   49098\n",
              "Albania                196702    5708\n",
              "Algeria               1179755   77972\n",
              "Andorra                 94404    5423\n",
              "Angola                  22662    1078\n",
              "...                       ...     ...\n",
              "West Bank and Gaza     233461    1370\n",
              "Western Sahara            901      63\n",
              "Yemen                   67180   17707\n",
              "Zambia                 129421    2643\n",
              "Zimbabwe                50794     881\n",
              "\n",
              "[187 rows x 2 columns]"
            ]
          },
          "metadata": {
            "tags": []
          },
          "execution_count": 34
        }
      ]
    },
    {
      "cell_type": "markdown",
      "metadata": {
        "id": "hRJxC2jP-Yvb"
      },
      "source": [
        "###  지역별 확진자/사망자 집계 조회"
      ]
    },
    {
      "cell_type": "code",
      "metadata": {
        "id": "YbBCnQR0FZAR",
        "colab": {
          "base_uri": "https://localhost:8080/"
        },
        "outputId": "baa87748-38fb-406f-cdcc-a92cba0701d1"
      },
      "source": [
        "df['WHO Region'].unique()"
      ],
      "execution_count": null,
      "outputs": [
        {
          "output_type": "execute_result",
          "data": {
            "text/plain": [
              "array(['Eastern Mediterranean', 'Europe', 'Africa', 'Americas',\n",
              "       'Western Pacific', 'South-East Asia'], dtype=object)"
            ]
          },
          "metadata": {
            "tags": []
          },
          "execution_count": 59
        }
      ]
    },
    {
      "cell_type": "code",
      "metadata": {
        "id": "bNVVmjLJ-2r8",
        "colab": {
          "base_uri": "https://localhost:8080/",
          "height": 326
        },
        "outputId": "3001938c-7811-43ae-9c9a-2653a313e494"
      },
      "source": [
        "regional_stat= df.groupby(\"WHO Region\")['Confirmed','Deaths'].sum()\n",
        "regional_stat"
      ],
      "execution_count": null,
      "outputs": [
        {
          "output_type": "stream",
          "text": [
            "/usr/local/lib/python3.7/dist-packages/ipykernel_launcher.py:1: FutureWarning: Indexing with multiple keys (implicitly converted to a tuple of keys) will be deprecated, use a list instead.\n",
            "  \"\"\"Entry point for launching an IPython kernel.\n"
          ],
          "name": "stderr"
        },
        {
          "output_type": "execute_result",
          "data": {
            "text/html": [
              "<div>\n",
              "<style scoped>\n",
              "    .dataframe tbody tr th:only-of-type {\n",
              "        vertical-align: middle;\n",
              "    }\n",
              "\n",
              "    .dataframe tbody tr th {\n",
              "        vertical-align: top;\n",
              "    }\n",
              "\n",
              "    .dataframe thead th {\n",
              "        text-align: right;\n",
              "    }\n",
              "</style>\n",
              "<table border=\"1\" class=\"dataframe\">\n",
              "  <thead>\n",
              "    <tr style=\"text-align: right;\">\n",
              "      <th></th>\n",
              "      <th>Confirmed</th>\n",
              "      <th>Deaths</th>\n",
              "    </tr>\n",
              "    <tr>\n",
              "      <th>WHO Region</th>\n",
              "      <th></th>\n",
              "      <th></th>\n",
              "    </tr>\n",
              "  </thead>\n",
              "  <tbody>\n",
              "    <tr>\n",
              "      <th>Africa</th>\n",
              "      <td>21791827</td>\n",
              "      <td>439978</td>\n",
              "    </tr>\n",
              "    <tr>\n",
              "      <th>Americas</th>\n",
              "      <td>402261194</td>\n",
              "      <td>19359292</td>\n",
              "    </tr>\n",
              "    <tr>\n",
              "      <th>Eastern Mediterranean</th>\n",
              "      <td>74082892</td>\n",
              "      <td>1924029</td>\n",
              "    </tr>\n",
              "    <tr>\n",
              "      <th>Europe</th>\n",
              "      <td>248879793</td>\n",
              "      <td>19271040</td>\n",
              "    </tr>\n",
              "    <tr>\n",
              "      <th>South-East Asia</th>\n",
              "      <td>55118365</td>\n",
              "      <td>1458134</td>\n",
              "    </tr>\n",
              "    <tr>\n",
              "      <th>Western Pacific</th>\n",
              "      <td>26374411</td>\n",
              "      <td>932430</td>\n",
              "    </tr>\n",
              "  </tbody>\n",
              "</table>\n",
              "</div>"
            ],
            "text/plain": [
              "                       Confirmed    Deaths\n",
              "WHO Region                                \n",
              "Africa                  21791827    439978\n",
              "Americas               402261194  19359292\n",
              "Eastern Mediterranean   74082892   1924029\n",
              "Europe                 248879793  19271040\n",
              "South-East Asia         55118365   1458134\n",
              "Western Pacific         26374411    932430"
            ]
          },
          "metadata": {
            "tags": []
          },
          "execution_count": 35
        }
      ]
    },
    {
      "cell_type": "code",
      "metadata": {
        "id": "LME4eaW7QVgA"
      },
      "source": [
        "x = np.arange(0, 10, 0.1)\n",
        "y_1 = \n",
        "y_2 = 1 + np.cos(x)\n",
        "\n",
        "plt.plot(x, y_1, color='blue', alpha=0.3, label=\"1+sin\")\n",
        "plt.plot(x, y_2, color='red', alpha=0.7, label=\"1+cos\")\n",
        "\n",
        "plt.grid()\n",
        "plt.legend()\n",
        "plt.show()"
      ],
      "execution_count": null,
      "outputs": []
    },
    {
      "cell_type": "code",
      "metadata": {
        "id": "KEvsI1ZvNlpM",
        "colab": {
          "base_uri": "https://localhost:8080/",
          "height": 368
        },
        "outputId": "1a7d9596-90d2-49a4-8e95-f028c4368da6"
      },
      "source": [
        "plt.figure(figsize=(60, 40))\n",
        "x_label = [\"Africa\", \"Americas\", \"Eastern Mediterranean\", \"Europe\", \"South-East Asia\", \"Western Pacific\"]\n",
        "x = np.arange(len(x_label)) # WHO Reigion을 label로 배열 생성\n",
        "\n",
        "y_1 = [21791827, 402261194, 74082892, 248879793, 55118365, 26374411] # 확진자\n",
        "y_2 = [439978, 19359292, 1924029, 19271040, 1458134, 932430] # 사망자\n",
        "\n",
        "fig, axes = plt.subplots() # 1, 1 형태의 ax 하나 생성.\n",
        "\n",
        "# bar의 넓이 넓이 지정\n",
        "width = 0.35\n",
        "axes.bar(x - width/2, y_1, width, align='center', alpha=0.5)\n",
        "axes.bar(x + width/2, y_2, width, align='center', alpha=0.8)\n",
        "\n",
        "# xticks 설정\n",
        "plt.xticks(x)\n",
        "\n",
        "axes.set_xticklabels(x_label) # 실제 표시할 레이블\n",
        "plt.legend()\n",
        "plt.show()"
      ],
      "execution_count": null,
      "outputs": [
        {
          "output_type": "stream",
          "text": [
            "No handles with labels found to put in legend.\n"
          ],
          "name": "stderr"
        },
        {
          "output_type": "display_data",
          "data": {
            "text/plain": [
              "<Figure size 4320x2880 with 0 Axes>"
            ]
          },
          "metadata": {
            "tags": []
          }
        },
        {
          "output_type": "display_data",
          "data": {
            "image/png": "[encoded data removed]",
            "text/plain": [
              "<Figure size 576x360 with 1 Axes>"
            ]
          },
          "metadata": {
            "tags": [],
            "needs_background": "light"
          }
        }
      ]
    },
    {
      "cell_type": "code",
      "metadata": {
        "id": "9YQhTS_BTgb3",
        "colab": {
          "base_uri": "https://localhost:8080/",
          "height": 244
        },
        "outputId": "6a1557b8-ca63-4f46-cd1b-1f9d8607c3cc"
      },
      "source": [
        "x = np.arange(1, 10, 0.05) # np.linspace\n",
        "x_label = [\"Africa\", \"Americas\", \"Eastern Mediterranean\", \"Europe\", \"South-East Asia\", \"Western Pacific\"]\n",
        "x = np.arange(len(x_label)) # WHO Reigion을 label로 배열 생성\n",
        "\n",
        "y_1 = [21791827, 402261194, 74082892, 248879793, 55118365, 26374411] # 확진자\n",
        "y_2 = [439978, 19359292, 1924029, 19271040, 1458134, 932430] # 사망자\n",
        "\n",
        "# y_1 = np.cos(x) + 1\n",
        "# y_2 = np.sin(x) + 1\n",
        "y_3 = y_1 * y_2 / np.pi\n",
        "\n",
        "plt.fill_between(x, y_1, color='green', alpha=0.1)\n",
        "plt.fill_between(x, y_2, color='blue', alpha=0.2)\n",
        "plt.fill_between(x, y_3, color='red', alpha=0.3)\n",
        "\n",
        "plt.show()"
      ],
      "execution_count": null,
      "outputs": [
        {
          "output_type": "error",
          "ename": "TypeError",
          "evalue": "ignored",
          "traceback": [
            "\u001b[0;31m---------------------------------------------------------------------------\u001b[0m",
            "\u001b[0;31mTypeError\u001b[0m                                 Traceback (most recent call last)",
            "\u001b[0;32m<ipython-input-64-8bee53ca6d53>\u001b[0m in \u001b[0;36m<module>\u001b[0;34m()\u001b[0m\n\u001b[1;32m      8\u001b[0m \u001b[0;31m# y_1 = np.cos(x) + 1\u001b[0m\u001b[0;34m\u001b[0m\u001b[0;34m\u001b[0m\u001b[0;34m\u001b[0m\u001b[0m\n\u001b[1;32m      9\u001b[0m \u001b[0;31m# y_2 = np.sin(x) + 1\u001b[0m\u001b[0;34m\u001b[0m\u001b[0;34m\u001b[0m\u001b[0;34m\u001b[0m\u001b[0m\n\u001b[0;32m---> 10\u001b[0;31m \u001b[0my_3\u001b[0m \u001b[0;34m=\u001b[0m \u001b[0my_1\u001b[0m \u001b[0;34m*\u001b[0m \u001b[0my_2\u001b[0m \u001b[0;34m/\u001b[0m \u001b[0mnp\u001b[0m\u001b[0;34m.\u001b[0m\u001b[0mpi\u001b[0m\u001b[0;34m\u001b[0m\u001b[0;34m\u001b[0m\u001b[0m\n\u001b[0m\u001b[1;32m     11\u001b[0m \u001b[0;34m\u001b[0m\u001b[0m\n\u001b[1;32m     12\u001b[0m \u001b[0mplt\u001b[0m\u001b[0;34m.\u001b[0m\u001b[0mfill_between\u001b[0m\u001b[0;34m(\u001b[0m\u001b[0mx\u001b[0m\u001b[0;34m,\u001b[0m \u001b[0my_1\u001b[0m\u001b[0;34m,\u001b[0m \u001b[0mcolor\u001b[0m\u001b[0;34m=\u001b[0m\u001b[0;34m'green'\u001b[0m\u001b[0;34m,\u001b[0m \u001b[0malpha\u001b[0m\u001b[0;34m=\u001b[0m\u001b[0;36m0.1\u001b[0m\u001b[0;34m)\u001b[0m\u001b[0;34m\u001b[0m\u001b[0;34m\u001b[0m\u001b[0m\n",
            "\u001b[0;31mTypeError\u001b[0m: can't multiply sequence by non-int of type 'list'"
          ]
        }
      ]
    },
    {
      "cell_type": "code",
      "metadata": {
        "id": "6-gtFu1ALqio"
      },
      "source": [
        "plt.show('Confirmed')"
      ],
      "execution_count": null,
      "outputs": []
    },
    {
      "cell_type": "code",
      "metadata": {
        "id": "QrrcKKl_LNo8",
        "colab": {
          "base_uri": "https://localhost:8080/",
          "height": 171
        },
        "outputId": "2f2cc075-2249-4c31-ff3a-72b73d12226a"
      },
      "source": [
        "sns.violinplot(x=df_Africa['Confirmed'])"
      ],
      "execution_count": null,
      "outputs": [
        {
          "output_type": "error",
          "ename": "NameError",
          "evalue": "ignored",
          "traceback": [
            "\u001b[0;31m---------------------------------------------------------------------------\u001b[0m",
            "\u001b[0;31mNameError\u001b[0m                                 Traceback (most recent call last)",
            "\u001b[0;32m<ipython-input-62-f660d2b1dd6e>\u001b[0m in \u001b[0;36m<module>\u001b[0;34m()\u001b[0m\n\u001b[0;32m----> 1\u001b[0;31m \u001b[0msns\u001b[0m\u001b[0;34m.\u001b[0m\u001b[0mviolinplot\u001b[0m\u001b[0;34m(\u001b[0m\u001b[0mx\u001b[0m\u001b[0;34m=\u001b[0m\u001b[0mdf_Africa\u001b[0m\u001b[0;34m[\u001b[0m\u001b[0;34m'Confirmed'\u001b[0m\u001b[0;34m]\u001b[0m\u001b[0;34m)\u001b[0m\u001b[0;34m\u001b[0m\u001b[0;34m\u001b[0m\u001b[0m\n\u001b[0m",
            "\u001b[0;31mNameError\u001b[0m: name 'df_Africa' is not defined"
          ]
        }
      ]
    },
    {
      "cell_type": "code",
      "metadata": {
        "id": "MmzGZOASsbXK",
        "colab": {
          "base_uri": "https://localhost:8080/",
          "height": 383
        },
        "outputId": "674990ad-b0f4-428d-d66b-aefb8ebf015b"
      },
      "source": [
        "sns.catplot(\n",
        "    x='Confirmed',\n",
        "    y='Deaths',\n",
        "    data=regional_stat,\n",
        "    kind='bar')\n",
        "plt.show()"
      ],
      "execution_count": null,
      "outputs": [
        {
          "output_type": "display_data",
          "data": {
            "image/png": "[encoded data removed]",
            "text/plain": [
              "<Figure size 360x360 with 1 Axes>"
            ]
          },
          "metadata": {
            "tags": [],
            "needs_background": "light"
          }
        }
      ]
    },
    {
      "cell_type": "code",
      "metadata": {
        "id": "j5ETqWdeo5Qu"
      },
      "source": [
        "sns.displot(df['Confirmed'])\n",
        "plt.show()"
      ],
      "execution_count": null,
      "outputs": []
    },
    {
      "cell_type": "code",
      "metadata": {
        "id": "H4WbkwCboTQi"
      },
      "source": [
        "sns.displot(regional_stat)\n",
        "plt.show()"
      ],
      "execution_count": null,
      "outputs": []
    },
    {
      "cell_type": "code",
      "metadata": {
        "id": "7KVXaUvumlCV"
      },
      "source": [
        "# bar \n",
        "sns.countplot(\n",
        "    x='Country/Region',  \n",
        "    y='Confirmed',   \n",
        "    kind='bar'\n",
        ")\n",
        "\n",
        "plt.show()"
      ],
      "execution_count": null,
      "outputs": []
    },
    {
      "cell_type": "code",
      "metadata": {
        "id": "_znCnbPFmI8O"
      },
      "source": [
        "sns.countplot(x='WHO Region', data=regional_stat, hue='WHO Region')"
      ],
      "execution_count": null,
      "outputs": []
    },
    {
      "cell_type": "code",
      "metadata": {
        "id": "KR8QPdD3j4Sl"
      },
      "source": [
        "plt.plot(df['Confirmed'])\n",
        "plt.plot(df['Deaths'])\n",
        "plt.plot(df['Active'])\n",
        "plt.plot(df['Recovered'])\n",
        "plt.grid()\n",
        "plt.legend(['Confirmed','Deaths','Active','Recovered'])\n",
        "palette='coolwarm'\n",
        "plt.show()"
      ],
      "execution_count": null,
      "outputs": []
    },
    {
      "cell_type": "markdown",
      "metadata": {
        "id": "eQcXWhB2OArl"
      },
      "source": [
        "\n",
        "\n",
        "```\n",
        "# This is formatted as code\n",
        "```\n",
        "\n",
        "#  5.피벗테이블 \n",
        "    * 국가별 코로나 확진자의 사망자율/회복률을 지역별로 조회하기 위해 \n",
        "    * 행 인덱스: 국가\n",
        "    * 열 인덱스: WHO 지역\n",
        "    * 집계할값 대상: 사망자 회복자/사망자"
      ]
    },
    {
      "cell_type": "markdown",
      "metadata": {
        "id": "7nQJ0jGuvJis"
      },
      "source": [
        "###  지역별 코로나 확진자 합계 조회"
      ]
    },
    {
      "cell_type": "code",
      "metadata": {
        "colab": {
          "base_uri": "https://localhost:8080/",
          "height": 455
        },
        "id": "SE3DqjPSQjvW",
        "outputId": "d04734de-0646-4fd6-ce45-e23ba8f9b1d4"
      },
      "source": [
        "pd.pivot_table(\n",
        "    df, #사용할 데이터 프레임\n",
        "    index=[\"Date\"],  #나라별로 보고 싶어서 선택한 인덱스 #날짜\n",
        "    columns=\"WHO Region\",  #규모구분의 값인 WHO Region 컬럼명이 됨 #확진자\n",
        "    values=\"Confirmed\",\n",
        "    aggfunc=np.sum\n",
        "    ) #확진자 수   #사망자"
      ],
      "execution_count": null,
      "outputs": [
        {
          "output_type": "execute_result",
          "data": {
            "text/html": [
              "<div>\n",
              "<style scoped>\n",
              "    .dataframe tbody tr th:only-of-type {\n",
              "        vertical-align: middle;\n",
              "    }\n",
              "\n",
              "    .dataframe tbody tr th {\n",
              "        vertical-align: top;\n",
              "    }\n",
              "\n",
              "    .dataframe thead th {\n",
              "        text-align: right;\n",
              "    }\n",
              "</style>\n",
              "<table border=\"1\" class=\"dataframe\">\n",
              "  <thead>\n",
              "    <tr style=\"text-align: right;\">\n",
              "      <th>WHO Region</th>\n",
              "      <th>Africa</th>\n",
              "      <th>Americas</th>\n",
              "      <th>Eastern Mediterranean</th>\n",
              "      <th>Europe</th>\n",
              "      <th>South-East Asia</th>\n",
              "      <th>Western Pacific</th>\n",
              "    </tr>\n",
              "    <tr>\n",
              "      <th>Date</th>\n",
              "      <th></th>\n",
              "      <th></th>\n",
              "      <th></th>\n",
              "      <th></th>\n",
              "      <th></th>\n",
              "      <th></th>\n",
              "    </tr>\n",
              "  </thead>\n",
              "  <tbody>\n",
              "    <tr>\n",
              "      <th>2020-01-22</th>\n",
              "      <td>0</td>\n",
              "      <td>1</td>\n",
              "      <td>0</td>\n",
              "      <td>0</td>\n",
              "      <td>2</td>\n",
              "      <td>552</td>\n",
              "    </tr>\n",
              "    <tr>\n",
              "      <th>2020-01-23</th>\n",
              "      <td>0</td>\n",
              "      <td>1</td>\n",
              "      <td>0</td>\n",
              "      <td>0</td>\n",
              "      <td>3</td>\n",
              "      <td>650</td>\n",
              "    </tr>\n",
              "    <tr>\n",
              "      <th>2020-01-24</th>\n",
              "      <td>0</td>\n",
              "      <td>2</td>\n",
              "      <td>0</td>\n",
              "      <td>2</td>\n",
              "      <td>5</td>\n",
              "      <td>932</td>\n",
              "    </tr>\n",
              "    <tr>\n",
              "      <th>2020-01-25</th>\n",
              "      <td>0</td>\n",
              "      <td>2</td>\n",
              "      <td>0</td>\n",
              "      <td>3</td>\n",
              "      <td>8</td>\n",
              "      <td>1421</td>\n",
              "    </tr>\n",
              "    <tr>\n",
              "      <th>2020-01-26</th>\n",
              "      <td>0</td>\n",
              "      <td>6</td>\n",
              "      <td>0</td>\n",
              "      <td>3</td>\n",
              "      <td>9</td>\n",
              "      <td>2100</td>\n",
              "    </tr>\n",
              "    <tr>\n",
              "      <th>...</th>\n",
              "      <td>...</td>\n",
              "      <td>...</td>\n",
              "      <td>...</td>\n",
              "      <td>...</td>\n",
              "      <td>...</td>\n",
              "      <td>...</td>\n",
              "    </tr>\n",
              "    <tr>\n",
              "      <th>2020-07-23</th>\n",
              "      <td>656696</td>\n",
              "      <td>8294228</td>\n",
              "      <td>1439937</td>\n",
              "      <td>3216701</td>\n",
              "      <td>1625727</td>\n",
              "      <td>277192</td>\n",
              "    </tr>\n",
              "    <tr>\n",
              "      <th>2020-07-24</th>\n",
              "      <td>677376</td>\n",
              "      <td>8460627</td>\n",
              "      <td>1453830</td>\n",
              "      <td>3239712</td>\n",
              "      <td>1679154</td>\n",
              "      <td>280946</td>\n",
              "    </tr>\n",
              "    <tr>\n",
              "      <th>2020-07-25</th>\n",
              "      <td>694057</td>\n",
              "      <td>8609554</td>\n",
              "      <td>1467209</td>\n",
              "      <td>3259047</td>\n",
              "      <td>1732350</td>\n",
              "      <td>284973</td>\n",
              "    </tr>\n",
              "    <tr>\n",
              "      <th>2020-07-26</th>\n",
              "      <td>711035</td>\n",
              "      <td>8709755</td>\n",
              "      <td>1478334</td>\n",
              "      <td>3277229</td>\n",
              "      <td>1786304</td>\n",
              "      <td>289139</td>\n",
              "    </tr>\n",
              "    <tr>\n",
              "      <th>2020-07-27</th>\n",
              "      <td>723207</td>\n",
              "      <td>8839286</td>\n",
              "      <td>1490744</td>\n",
              "      <td>3299523</td>\n",
              "      <td>1835297</td>\n",
              "      <td>292428</td>\n",
              "    </tr>\n",
              "  </tbody>\n",
              "</table>\n",
              "<p>188 rows × 6 columns</p>\n",
              "</div>"
            ],
            "text/plain": [
              "WHO Region  Africa  Americas  ...  South-East Asia  Western Pacific\n",
              "Date                          ...                                  \n",
              "2020-01-22       0         1  ...                2              552\n",
              "2020-01-23       0         1  ...                3              650\n",
              "2020-01-24       0         2  ...                5              932\n",
              "2020-01-25       0         2  ...                8             1421\n",
              "2020-01-26       0         6  ...                9             2100\n",
              "...            ...       ...  ...              ...              ...\n",
              "2020-07-23  656696   8294228  ...          1625727           277192\n",
              "2020-07-24  677376   8460627  ...          1679154           280946\n",
              "2020-07-25  694057   8609554  ...          1732350           284973\n",
              "2020-07-26  711035   8709755  ...          1786304           289139\n",
              "2020-07-27  723207   8839286  ...          1835297           292428\n",
              "\n",
              "[188 rows x 6 columns]"
            ]
          },
          "metadata": {
            "tags": []
          },
          "execution_count": 47
        }
      ]
    },
    {
      "cell_type": "markdown",
      "metadata": {
        "id": "3mjYtlVReku3"
      },
      "source": [
        "### 지역별 코로나 사망자 합계 조회"
      ]
    },
    {
      "cell_type": "code",
      "metadata": {
        "id": "2wUVkAzrelou"
      },
      "source": [
        "pivot = df.pivot_table(\n",
        "    index='Date', \n",
        "    columns=\"WHO Region\", \n",
        "    values='Deaths')\n",
        "pivot"
      ],
      "execution_count": null,
      "outputs": []
    },
    {
      "cell_type": "markdown",
      "metadata": {
        "id": "2zuO_6nqvuQj"
      },
      "source": [
        "###  지역별 코로나 사망자 월별 조회"
      ]
    },
    {
      "cell_type": "code",
      "metadata": {
        "id": "iSdONFi9aRJm"
      },
      "source": [
        "# pivot = df.pivot_table(\n",
        "#     index='Country/Region', \n",
        "#     columns=\"WHO Region\", \n",
        "#     values='Deaths')\n",
        "# pivot.head(20)\n"
      ],
      "execution_count": null,
      "outputs": []
    },
    {
      "cell_type": "code",
      "metadata": {
        "colab": {
          "base_uri": "https://localhost:8080/",
          "height": 300
        },
        "id": "UbeuPAk_l9wP",
        "outputId": "6a7a69e1-08a8-4dd4-b332-160949f24662"
      },
      "source": [
        "pd.pivot_table(\n",
        "    df, #사용할 데이터 프레임\n",
        "    index=[\"Month\"],  #나라별로 보고 싶어서 선택한 인덱스 #날짜\n",
        "    columns=\"WHO Region\",  #규모구분의 값인 WHO Region 컬럼명이 됨  #확진자\n",
        "    values=\"Confirmed\") #확진자 수   #사망자"
      ],
      "execution_count": null,
      "outputs": [
        {
          "output_type": "execute_result",
          "data": {
            "text/html": [
              "<div>\n",
              "<style scoped>\n",
              "    .dataframe tbody tr th:only-of-type {\n",
              "        vertical-align: middle;\n",
              "    }\n",
              "\n",
              "    .dataframe tbody tr th {\n",
              "        vertical-align: top;\n",
              "    }\n",
              "\n",
              "    .dataframe thead th {\n",
              "        text-align: right;\n",
              "    }\n",
              "</style>\n",
              "<table border=\"1\" class=\"dataframe\">\n",
              "  <thead>\n",
              "    <tr style=\"text-align: right;\">\n",
              "      <th>WHO Region</th>\n",
              "      <th>Africa</th>\n",
              "      <th>Americas</th>\n",
              "      <th>Eastern Mediterranean</th>\n",
              "      <th>Europe</th>\n",
              "      <th>South-East Asia</th>\n",
              "      <th>Western Pacific</th>\n",
              "    </tr>\n",
              "    <tr>\n",
              "      <th>Month</th>\n",
              "      <th></th>\n",
              "      <th></th>\n",
              "      <th></th>\n",
              "      <th></th>\n",
              "      <th></th>\n",
              "      <th></th>\n",
              "    </tr>\n",
              "  </thead>\n",
              "  <tbody>\n",
              "    <tr>\n",
              "      <th>1</th>\n",
              "      <td>0.000000</td>\n",
              "      <td>0.108696</td>\n",
              "      <td>0.054545</td>\n",
              "      <td>0.072500</td>\n",
              "      <td>1.080000</td>\n",
              "      <td>69.647273</td>\n",
              "    </tr>\n",
              "    <tr>\n",
              "      <th>2</th>\n",
              "      <td>0.005029</td>\n",
              "      <td>0.476762</td>\n",
              "      <td>3.653605</td>\n",
              "      <td>2.626724</td>\n",
              "      <td>3.703448</td>\n",
              "      <td>1036.548589</td>\n",
              "    </tr>\n",
              "    <tr>\n",
              "      <th>3</th>\n",
              "      <td>18.614247</td>\n",
              "      <td>890.832398</td>\n",
              "      <td>902.497067</td>\n",
              "      <td>1678.416935</td>\n",
              "      <td>123.148387</td>\n",
              "      <td>1694.215249</td>\n",
              "    </tr>\n",
              "    <tr>\n",
              "      <th>4</th>\n",
              "      <td>268.622917</td>\n",
              "      <td>16895.038406</td>\n",
              "      <td>5368.754545</td>\n",
              "      <td>13140.535833</td>\n",
              "      <td>2584.426667</td>\n",
              "      <td>2323.454545</td>\n",
              "    </tr>\n",
              "    <tr>\n",
              "      <th>5</th>\n",
              "      <td>1235.401882</td>\n",
              "      <td>45518.572230</td>\n",
              "      <td>15351.546921</td>\n",
              "      <td>23410.216935</td>\n",
              "      <td>14661.070968</td>\n",
              "      <td>3032.617009</td>\n",
              "    </tr>\n",
              "    <tr>\n",
              "      <th>6</th>\n",
              "      <td>3972.980556</td>\n",
              "      <td>88112.681884</td>\n",
              "      <td>36593.178788</td>\n",
              "      <td>30673.088750</td>\n",
              "      <td>51449.303333</td>\n",
              "      <td>3640.904242</td>\n",
              "    </tr>\n",
              "    <tr>\n",
              "      <th>7</th>\n",
              "      <td>10661.986883</td>\n",
              "      <td>153921.129630</td>\n",
              "      <td>59428.308081</td>\n",
              "      <td>37732.004630</td>\n",
              "      <td>127125.762963</td>\n",
              "      <td>4567.251852</td>\n",
              "    </tr>\n",
              "  </tbody>\n",
              "</table>\n",
              "</div>"
            ],
            "text/plain": [
              "WHO Region        Africa       Americas  ...  South-East Asia  Western Pacific\n",
              "Month                                    ...                                  \n",
              "1               0.000000       0.108696  ...         1.080000        69.647273\n",
              "2               0.005029       0.476762  ...         3.703448      1036.548589\n",
              "3              18.614247     890.832398  ...       123.148387      1694.215249\n",
              "4             268.622917   16895.038406  ...      2584.426667      2323.454545\n",
              "5            1235.401882   45518.572230  ...     14661.070968      3032.617009\n",
              "6            3972.980556   88112.681884  ...     51449.303333      3640.904242\n",
              "7           10661.986883  153921.129630  ...    127125.762963      4567.251852\n",
              "\n",
              "[7 rows x 6 columns]"
            ]
          },
          "metadata": {
            "tags": []
          },
          "execution_count": 53
        }
      ]
    },
    {
      "cell_type": "code",
      "metadata": {
        "colab": {
          "base_uri": "https://localhost:8080/",
          "height": 300
        },
        "id": "mzmb55zN1-Pk",
        "outputId": "8a8377a1-a3ea-437d-94cc-03feb1b5768f"
      },
      "source": [
        "pd.pivot_table(\n",
        "    df, #사용할 데이터 프레임\n",
        "    index=[\"Month\"],  #나라별로 보고 싶어서 선택한 인덱스 #날짜\n",
        "    columns=\"WHO Region\",  #규모구분의 값인 WHO Region 컬럼명이 됨  #확진자\n",
        "    values=\"Deaths\") #확진자 수   #사망자"
      ],
      "execution_count": null,
      "outputs": [
        {
          "output_type": "execute_result",
          "data": {
            "text/html": [
              "<div>\n",
              "<style scoped>\n",
              "    .dataframe tbody tr th:only-of-type {\n",
              "        vertical-align: middle;\n",
              "    }\n",
              "\n",
              "    .dataframe tbody tr th {\n",
              "        vertical-align: top;\n",
              "    }\n",
              "\n",
              "    .dataframe thead th {\n",
              "        text-align: right;\n",
              "    }\n",
              "</style>\n",
              "<table border=\"1\" class=\"dataframe\">\n",
              "  <thead>\n",
              "    <tr style=\"text-align: right;\">\n",
              "      <th>WHO Region</th>\n",
              "      <th>Africa</th>\n",
              "      <th>Americas</th>\n",
              "      <th>Eastern Mediterranean</th>\n",
              "      <th>Europe</th>\n",
              "      <th>South-East Asia</th>\n",
              "      <th>Western Pacific</th>\n",
              "    </tr>\n",
              "    <tr>\n",
              "      <th>Month</th>\n",
              "      <th></th>\n",
              "      <th></th>\n",
              "      <th></th>\n",
              "      <th></th>\n",
              "      <th></th>\n",
              "      <th></th>\n",
              "    </tr>\n",
              "  </thead>\n",
              "  <tbody>\n",
              "    <tr>\n",
              "      <th>1</th>\n",
              "      <td>0.000000</td>\n",
              "      <td>0.000000</td>\n",
              "      <td>0.000000</td>\n",
              "      <td>0.000000</td>\n",
              "      <td>0.000000</td>\n",
              "      <td>1.616364</td>\n",
              "    </tr>\n",
              "    <tr>\n",
              "      <th>2</th>\n",
              "      <td>0.000000</td>\n",
              "      <td>0.000750</td>\n",
              "      <td>0.268025</td>\n",
              "      <td>0.052155</td>\n",
              "      <td>0.000000</td>\n",
              "      <td>29.205016</td>\n",
              "    </tr>\n",
              "    <tr>\n",
              "      <th>3</th>\n",
              "      <td>0.430108</td>\n",
              "      <td>20.490182</td>\n",
              "      <td>52.435484</td>\n",
              "      <td>91.712903</td>\n",
              "      <td>4.332258</td>\n",
              "      <td>60.521994</td>\n",
              "    </tr>\n",
              "    <tr>\n",
              "      <th>4</th>\n",
              "      <td>11.761806</td>\n",
              "      <td>876.933333</td>\n",
              "      <td>251.407576</td>\n",
              "      <td>1141.395417</td>\n",
              "      <td>107.080000</td>\n",
              "      <td>88.913333</td>\n",
              "    </tr>\n",
              "    <tr>\n",
              "      <th>5</th>\n",
              "      <td>36.018817</td>\n",
              "      <td>2679.362553</td>\n",
              "      <td>452.259531</td>\n",
              "      <td>2046.935887</td>\n",
              "      <td>461.354839</td>\n",
              "      <td>121.627566</td>\n",
              "    </tr>\n",
              "    <tr>\n",
              "      <th>6</th>\n",
              "      <td>89.975000</td>\n",
              "      <td>4553.492754</td>\n",
              "      <td>828.981818</td>\n",
              "      <td>2372.012083</td>\n",
              "      <td>1462.210000</td>\n",
              "      <td>131.544848</td>\n",
              "    </tr>\n",
              "    <tr>\n",
              "      <th>7</th>\n",
              "      <td>184.599537</td>\n",
              "      <td>6453.553140</td>\n",
              "      <td>1458.920875</td>\n",
              "      <td>2562.450000</td>\n",
              "      <td>3122.162963</td>\n",
              "      <td>141.843771</td>\n",
              "    </tr>\n",
              "  </tbody>\n",
              "</table>\n",
              "</div>"
            ],
            "text/plain": [
              "WHO Region      Africa     Americas  ...  South-East Asia  Western Pacific\n",
              "Month                                ...                                  \n",
              "1             0.000000     0.000000  ...         0.000000         1.616364\n",
              "2             0.000000     0.000750  ...         0.000000        29.205016\n",
              "3             0.430108    20.490182  ...         4.332258        60.521994\n",
              "4            11.761806   876.933333  ...       107.080000        88.913333\n",
              "5            36.018817  2679.362553  ...       461.354839       121.627566\n",
              "6            89.975000  4553.492754  ...      1462.210000       131.544848\n",
              "7           184.599537  6453.553140  ...      3122.162963       141.843771\n",
              "\n",
              "[7 rows x 6 columns]"
            ]
          },
          "metadata": {
            "tags": []
          },
          "execution_count": 54
        }
      ]
    },
    {
      "cell_type": "markdown",
      "metadata": {
        "id": "TGmLaMqyvnqZ"
      },
      "source": [
        "컬럼과 인덱스를 바꿔서 보니 더 보기 편하다"
      ]
    },
    {
      "cell_type": "code",
      "metadata": {
        "id": "QwReaQY3vEXs"
      },
      "source": [
        "import numpy as np\n",
        "pd.pivot_table(\n",
        "    df, #사용할 데이터 프레임\n",
        "    index=\"WHO Region\", \n",
        "    columns=\"Country/Region\", \n",
        "    values=\"Deaths\")  #  사망자수"
      ],
      "execution_count": null,
      "outputs": []
    },
    {
      "cell_type": "code",
      "metadata": {
        "id": "nSQGtmx26hFh",
        "colab": {
          "base_uri": "https://localhost:8080/",
          "height": 512
        },
        "outputId": "445ae70d-8f39-42c2-d1fb-0661682cc448"
      },
      "source": [
        "df.groupby([\"WHO Region\",\"Country/Region\"])[\"Confirmed\",\"Deaths\"].sum()"
      ],
      "execution_count": null,
      "outputs": [
        {
          "output_type": "stream",
          "text": [
            "/usr/local/lib/python3.7/dist-packages/ipykernel_launcher.py:1: FutureWarning: Indexing with multiple keys (implicitly converted to a tuple of keys) will be deprecated, use a list instead.\n",
            "  \"\"\"Entry point for launching an IPython kernel.\n"
          ],
          "name": "stderr"
        },
        {
          "output_type": "execute_result",
          "data": {
            "text/html": [
              "<div>\n",
              "<style scoped>\n",
              "    .dataframe tbody tr th:only-of-type {\n",
              "        vertical-align: middle;\n",
              "    }\n",
              "\n",
              "    .dataframe tbody tr th {\n",
              "        vertical-align: top;\n",
              "    }\n",
              "\n",
              "    .dataframe thead th {\n",
              "        text-align: right;\n",
              "    }\n",
              "</style>\n",
              "<table border=\"1\" class=\"dataframe\">\n",
              "  <thead>\n",
              "    <tr style=\"text-align: right;\">\n",
              "      <th></th>\n",
              "      <th></th>\n",
              "      <th>Confirmed</th>\n",
              "      <th>Deaths</th>\n",
              "    </tr>\n",
              "    <tr>\n",
              "      <th>WHO Region</th>\n",
              "      <th>Country/Region</th>\n",
              "      <th></th>\n",
              "      <th></th>\n",
              "    </tr>\n",
              "  </thead>\n",
              "  <tbody>\n",
              "    <tr>\n",
              "      <th rowspan=\"5\" valign=\"top\">Africa</th>\n",
              "      <th>Algeria</th>\n",
              "      <td>1179755</td>\n",
              "      <td>77972</td>\n",
              "    </tr>\n",
              "    <tr>\n",
              "      <th>Angola</th>\n",
              "      <td>22662</td>\n",
              "      <td>1078</td>\n",
              "    </tr>\n",
              "    <tr>\n",
              "      <th>Benin</th>\n",
              "      <td>64406</td>\n",
              "      <td>1095</td>\n",
              "    </tr>\n",
              "    <tr>\n",
              "      <th>Botswana</th>\n",
              "      <td>15306</td>\n",
              "      <td>120</td>\n",
              "    </tr>\n",
              "    <tr>\n",
              "      <th>Burkina Faso</th>\n",
              "      <td>96153</td>\n",
              "      <td>5583</td>\n",
              "    </tr>\n",
              "    <tr>\n",
              "      <th>...</th>\n",
              "      <th>...</th>\n",
              "      <td>...</td>\n",
              "      <td>...</td>\n",
              "    </tr>\n",
              "    <tr>\n",
              "      <th rowspan=\"5\" valign=\"top\">Western Pacific</th>\n",
              "      <th>Philippines</th>\n",
              "      <td>2972611</td>\n",
              "      <td>110892</td>\n",
              "    </tr>\n",
              "    <tr>\n",
              "      <th>Singapore</th>\n",
              "      <td>3502472</td>\n",
              "      <td>2441</td>\n",
              "    </tr>\n",
              "    <tr>\n",
              "      <th>South Korea</th>\n",
              "      <td>1647537</td>\n",
              "      <td>33518</td>\n",
              "    </tr>\n",
              "    <tr>\n",
              "      <th>Taiwan*</th>\n",
              "      <td>55593</td>\n",
              "      <td>840</td>\n",
              "    </tr>\n",
              "    <tr>\n",
              "      <th>Vietnam</th>\n",
              "      <td>40675</td>\n",
              "      <td>0</td>\n",
              "    </tr>\n",
              "  </tbody>\n",
              "</table>\n",
              "<p>187 rows × 2 columns</p>\n",
              "</div>"
            ],
            "text/plain": [
              "                                Confirmed  Deaths\n",
              "WHO Region      Country/Region                   \n",
              "Africa          Algeria           1179755   77972\n",
              "                Angola              22662    1078\n",
              "                Benin               64406    1095\n",
              "                Botswana            15306     120\n",
              "                Burkina Faso        96153    5583\n",
              "...                                   ...     ...\n",
              "Western Pacific Philippines       2972611  110892\n",
              "                Singapore         3502472    2441\n",
              "                South Korea       1647537   33518\n",
              "                Taiwan*             55593     840\n",
              "                Vietnam             40675       0\n",
              "\n",
              "[187 rows x 2 columns]"
            ]
          },
          "metadata": {
            "tags": []
          },
          "execution_count": 55
        }
      ]
    },
    {
      "cell_type": "code",
      "metadata": {
        "id": "16fIAFLb8EdI"
      },
      "source": [
        "# Survival_Rate = Regions_Deaths/Region_Confirmed\n",
        "# Survival_Rate"
      ],
      "execution_count": null,
      "outputs": []
    },
    {
      "cell_type": "code",
      "metadata": {
        "id": "nJWPnAZU2M7I",
        "colab": {
          "base_uri": "https://localhost:8080/",
          "height": 455
        },
        "outputId": "a7a09489-eb66-43cc-ded8-fabb12915444"
      },
      "source": [
        "import numpy as np\n",
        "pd.pivot_table(\n",
        "    df, #사용할 데이터 프레임\n",
        "    index=\"Country/Region\",\n",
        "    columns=\"WHO Region\",\n",
        "    values=\"Deaths\")"
      ],
      "execution_count": null,
      "outputs": [
        {
          "output_type": "execute_result",
          "data": {
            "text/html": [
              "<div>\n",
              "<style scoped>\n",
              "    .dataframe tbody tr th:only-of-type {\n",
              "        vertical-align: middle;\n",
              "    }\n",
              "\n",
              "    .dataframe tbody tr th {\n",
              "        vertical-align: top;\n",
              "    }\n",
              "\n",
              "    .dataframe thead th {\n",
              "        text-align: right;\n",
              "    }\n",
              "</style>\n",
              "<table border=\"1\" class=\"dataframe\">\n",
              "  <thead>\n",
              "    <tr style=\"text-align: right;\">\n",
              "      <th>WHO Region</th>\n",
              "      <th>Africa</th>\n",
              "      <th>Americas</th>\n",
              "      <th>Eastern Mediterranean</th>\n",
              "      <th>Europe</th>\n",
              "      <th>South-East Asia</th>\n",
              "      <th>Western Pacific</th>\n",
              "    </tr>\n",
              "    <tr>\n",
              "      <th>Country/Region</th>\n",
              "      <th></th>\n",
              "      <th></th>\n",
              "      <th></th>\n",
              "      <th></th>\n",
              "      <th></th>\n",
              "      <th></th>\n",
              "    </tr>\n",
              "  </thead>\n",
              "  <tbody>\n",
              "    <tr>\n",
              "      <th>Afghanistan</th>\n",
              "      <td>NaN</td>\n",
              "      <td>NaN</td>\n",
              "      <td>261.159574</td>\n",
              "      <td>NaN</td>\n",
              "      <td>NaN</td>\n",
              "      <td>NaN</td>\n",
              "    </tr>\n",
              "    <tr>\n",
              "      <th>Albania</th>\n",
              "      <td>NaN</td>\n",
              "      <td>NaN</td>\n",
              "      <td>NaN</td>\n",
              "      <td>30.361702</td>\n",
              "      <td>NaN</td>\n",
              "      <td>NaN</td>\n",
              "    </tr>\n",
              "    <tr>\n",
              "      <th>Algeria</th>\n",
              "      <td>414.744681</td>\n",
              "      <td>NaN</td>\n",
              "      <td>NaN</td>\n",
              "      <td>NaN</td>\n",
              "      <td>NaN</td>\n",
              "      <td>NaN</td>\n",
              "    </tr>\n",
              "    <tr>\n",
              "      <th>Andorra</th>\n",
              "      <td>NaN</td>\n",
              "      <td>NaN</td>\n",
              "      <td>NaN</td>\n",
              "      <td>28.845745</td>\n",
              "      <td>NaN</td>\n",
              "      <td>NaN</td>\n",
              "    </tr>\n",
              "    <tr>\n",
              "      <th>Angola</th>\n",
              "      <td>5.734043</td>\n",
              "      <td>NaN</td>\n",
              "      <td>NaN</td>\n",
              "      <td>NaN</td>\n",
              "      <td>NaN</td>\n",
              "      <td>NaN</td>\n",
              "    </tr>\n",
              "    <tr>\n",
              "      <th>...</th>\n",
              "      <td>...</td>\n",
              "      <td>...</td>\n",
              "      <td>...</td>\n",
              "      <td>...</td>\n",
              "      <td>...</td>\n",
              "      <td>...</td>\n",
              "    </tr>\n",
              "    <tr>\n",
              "      <th>West Bank and Gaza</th>\n",
              "      <td>NaN</td>\n",
              "      <td>NaN</td>\n",
              "      <td>7.287234</td>\n",
              "      <td>NaN</td>\n",
              "      <td>NaN</td>\n",
              "      <td>NaN</td>\n",
              "    </tr>\n",
              "    <tr>\n",
              "      <th>Western Sahara</th>\n",
              "      <td>0.335106</td>\n",
              "      <td>NaN</td>\n",
              "      <td>NaN</td>\n",
              "      <td>NaN</td>\n",
              "      <td>NaN</td>\n",
              "      <td>NaN</td>\n",
              "    </tr>\n",
              "    <tr>\n",
              "      <th>Yemen</th>\n",
              "      <td>NaN</td>\n",
              "      <td>NaN</td>\n",
              "      <td>94.186170</td>\n",
              "      <td>NaN</td>\n",
              "      <td>NaN</td>\n",
              "      <td>NaN</td>\n",
              "    </tr>\n",
              "    <tr>\n",
              "      <th>Zambia</th>\n",
              "      <td>14.058511</td>\n",
              "      <td>NaN</td>\n",
              "      <td>NaN</td>\n",
              "      <td>NaN</td>\n",
              "      <td>NaN</td>\n",
              "      <td>NaN</td>\n",
              "    </tr>\n",
              "    <tr>\n",
              "      <th>Zimbabwe</th>\n",
              "      <td>4.686170</td>\n",
              "      <td>NaN</td>\n",
              "      <td>NaN</td>\n",
              "      <td>NaN</td>\n",
              "      <td>NaN</td>\n",
              "      <td>NaN</td>\n",
              "    </tr>\n",
              "  </tbody>\n",
              "</table>\n",
              "<p>187 rows × 6 columns</p>\n",
              "</div>"
            ],
            "text/plain": [
              "WHO Region              Africa  Americas  ...  South-East Asia  Western Pacific\n",
              "Country/Region                            ...                                  \n",
              "Afghanistan                NaN       NaN  ...              NaN              NaN\n",
              "Albania                    NaN       NaN  ...              NaN              NaN\n",
              "Algeria             414.744681       NaN  ...              NaN              NaN\n",
              "Andorra                    NaN       NaN  ...              NaN              NaN\n",
              "Angola                5.734043       NaN  ...              NaN              NaN\n",
              "...                        ...       ...  ...              ...              ...\n",
              "West Bank and Gaza         NaN       NaN  ...              NaN              NaN\n",
              "Western Sahara        0.335106       NaN  ...              NaN              NaN\n",
              "Yemen                      NaN       NaN  ...              NaN              NaN\n",
              "Zambia               14.058511       NaN  ...              NaN              NaN\n",
              "Zimbabwe              4.686170       NaN  ...              NaN              NaN\n",
              "\n",
              "[187 rows x 6 columns]"
            ]
          },
          "metadata": {
            "tags": []
          },
          "execution_count": 58
        }
      ]
    },
    {
      "cell_type": "markdown",
      "metadata": {
        "id": "LET6VAKi8LiL"
      },
      "source": [
        "#  6.시각화"
      ]
    },
    {
      "cell_type": "code",
      "metadata": {
        "id": "olFZHwPNqv1p",
        "colab": {
          "base_uri": "https://localhost:8080/",
          "height": 297
        },
        "outputId": "e66cb1dc-5456-4f0e-e2f1-1471a6da978c"
      },
      "source": [
        "sns.barplot(x='WHO Region', y='Confirmed', data=df, palette='coolwarm')"
      ],
      "execution_count": null,
      "outputs": [
        {
          "output_type": "execute_result",
          "data": {
            "text/plain": [
              "<matplotlib.axes._subplots.AxesSubplot at 0x7f338188bd50>"
            ]
          },
          "metadata": {
            "tags": []
          },
          "execution_count": 56
        },
        {
          "output_type": "display_data",
          "data": {
            "image/png": "[encoded data removed]",
            "text/plain": [
              "<Figure size 432x288 with 1 Axes>"
            ]
          },
          "metadata": {
            "tags": [],
            "needs_background": "light"
          }
        }
      ]
    },
    {
      "cell_type": "code",
      "metadata": {
        "id": "LFXs3eTbrt-G",
        "colab": {
          "base_uri": "https://localhost:8080/",
          "height": 297
        },
        "outputId": "0a9af2fc-f1ce-4eb7-fcca-04b6bda1a9b0"
      },
      "source": [
        "sns.barplot(x='WHO Region', y='Deaths', data=df, palette='coolwarm')"
      ],
      "execution_count": null,
      "outputs": [
        {
          "output_type": "execute_result",
          "data": {
            "text/plain": [
              "<matplotlib.axes._subplots.AxesSubplot at 0x7f338181d150>"
            ]
          },
          "metadata": {
            "tags": []
          },
          "execution_count": 57
        },
        {
          "output_type": "display_data",
          "data": {
            "image/png": "[encoded data removed]",
            "text/plain": [
              "<Figure size 432x288 with 1 Axes>"
            ]
          },
          "metadata": {
            "tags": [],
            "needs_background": "light"
          }
        }
      ]
    },
    {
      "cell_type": "markdown",
      "metadata": {
        "id": "5khDBPnh7_Ap"
      },
      "source": [
        "Heatmap을 이용한 상관관계 조사"
      ]
    },
    {
      "cell_type": "code",
      "metadata": {
        "id": "6MWB-tfP7rlL",
        "colab": {
          "base_uri": "https://localhost:8080/",
          "height": 324
        },
        "outputId": "fb78897f-de43-4098-852f-6184dde5c74c"
      },
      "source": [
        "plt.rcParams[\"figure.figsize\"] =(8, 5)\n",
        "sns.heatmap(df.corr(), annot=True, linewidths=1)\n",
        "plt.show()"
      ],
      "execution_count": null,
      "outputs": [
        {
          "output_type": "display_data",
          "data": {
            "image/png": "[encoded data removed]",
            "text/plain": [
              "<Figure size 576x360 with 2 Axes>"
            ]
          },
          "metadata": {
            "tags": [],
            "needs_background": "light"
          }
        }
      ]
    },
    {
      "cell_type": "code",
      "metadata": {
        "id": "WkcBwSihfeef",
        "colab": {
          "base_uri": "https://localhost:8080/",
          "height": 207
        },
        "outputId": "3e8f5db1-aea0-432b-ad4a-5dcca70b49ea"
      },
      "source": [
        "plt.rcParams[\"figure.figsize\"] =(8, 5)\n",
        "sns.heatmap(df.corr(), annot=True, linewidths=1, cmap=\"Reds\")\n",
        "plt.show()"
      ],
      "execution_count": null,
      "outputs": [
        {
          "output_type": "error",
          "ename": "NameError",
          "evalue": "ignored",
          "traceback": [
            "\u001b[0;31m---------------------------------------------------------------------------\u001b[0m",
            "\u001b[0;31mNameError\u001b[0m                                 Traceback (most recent call last)",
            "\u001b[0;32m<ipython-input-1-b0d64d0bc880>\u001b[0m in \u001b[0;36m<module>\u001b[0;34m()\u001b[0m\n\u001b[0;32m----> 1\u001b[0;31m \u001b[0mplt\u001b[0m\u001b[0;34m.\u001b[0m\u001b[0mrcParams\u001b[0m\u001b[0;34m[\u001b[0m\u001b[0;34m\"figure.figsize\"\u001b[0m\u001b[0;34m]\u001b[0m \u001b[0;34m=\u001b[0m\u001b[0;34m(\u001b[0m\u001b[0;36m8\u001b[0m\u001b[0;34m,\u001b[0m \u001b[0;36m5\u001b[0m\u001b[0;34m)\u001b[0m\u001b[0;34m\u001b[0m\u001b[0;34m\u001b[0m\u001b[0m\n\u001b[0m\u001b[1;32m      2\u001b[0m \u001b[0msns\u001b[0m\u001b[0;34m.\u001b[0m\u001b[0mheatmap\u001b[0m\u001b[0;34m(\u001b[0m\u001b[0mdf\u001b[0m\u001b[0;34m.\u001b[0m\u001b[0mcorr\u001b[0m\u001b[0;34m(\u001b[0m\u001b[0;34m)\u001b[0m\u001b[0;34m,\u001b[0m \u001b[0mannot\u001b[0m\u001b[0;34m=\u001b[0m\u001b[0;32mTrue\u001b[0m\u001b[0;34m,\u001b[0m \u001b[0mlinewidths\u001b[0m\u001b[0;34m=\u001b[0m\u001b[0;36m1\u001b[0m\u001b[0;34m,\u001b[0m \u001b[0mcmap\u001b[0m\u001b[0;34m=\u001b[0m\u001b[0;34m\"Reds\"\u001b[0m\u001b[0;34m)\u001b[0m\u001b[0;34m\u001b[0m\u001b[0;34m\u001b[0m\u001b[0m\n\u001b[1;32m      3\u001b[0m \u001b[0mplt\u001b[0m\u001b[0;34m.\u001b[0m\u001b[0mshow\u001b[0m\u001b[0;34m(\u001b[0m\u001b[0;34m)\u001b[0m\u001b[0;34m\u001b[0m\u001b[0;34m\u001b[0m\u001b[0m\n",
            "\u001b[0;31mNameError\u001b[0m: name 'plt' is not defined"
          ]
        }
      ]
    },
    {
      "cell_type": "code",
      "metadata": {
        "id": "uPdLnwmQzC1r"
      },
      "source": [
        "df_Europe = df.loc[df['WHO Region'] == 'Europe']\n",
        "df_Europe"
      ],
      "execution_count": null,
      "outputs": []
    },
    {
      "cell_type": "code",
      "metadata": {
        "id": "qicUURA0zc4L"
      },
      "source": [
        "df_Americas = df.loc[df['WHO Region'] == 'Americas']\n",
        "df_Americas"
      ],
      "execution_count": null,
      "outputs": []
    },
    {
      "cell_type": "code",
      "metadata": {
        "id": "6Dvu7NpzE0xQ"
      },
      "source": [
        "df_Africa = df.loc[df['WHO Region'] == 'Africa']\n",
        "df_Africa.head()"
      ],
      "execution_count": null,
      "outputs": []
    },
    {
      "cell_type": "code",
      "metadata": {
        "id": "6jBd40mxz7Nr"
      },
      "source": [
        "sns.heatmap(df_Europe.corr(), cmap ='Reds', annot=True)\n",
        "plt.show()"
      ],
      "execution_count": null,
      "outputs": []
    },
    {
      "cell_type": "code",
      "metadata": {
        "id": "QMSu71-mekzp"
      },
      "source": [
        "sns.heatmap(df_Africa.corr(), cmap ='Reds', annot=True)\n",
        "plt.show()"
      ],
      "execution_count": null,
      "outputs": []
    },
    {
      "cell_type": "code",
      "metadata": {
        "id": "skK3Nklj0O3U"
      },
      "source": [
        "sns.heatmap(df_Americas.corr(), cmap ='Reds', annot=True)\n",
        "plt.show()"
      ],
      "execution_count": null,
      "outputs": []
    },
    {
      "cell_type": "code",
      "metadata": {
        "id": "1KK9ZTolgE0i"
      },
      "source": [
        "sns.jointplot(x='onfirmed', y='Deaths', height=5, data=df, kind='kde', color='g')"
      ],
      "execution_count": null,
      "outputs": []
    },
    {
      "cell_type": "code",
      "metadata": {
        "id": "X7EFxlirfn_O"
      },
      "source": [
        "sns.pairplot(df_Africa)\n",
        "plt.show()"
      ],
      "execution_count": null,
      "outputs": []
    },
    {
      "cell_type": "code",
      "metadata": {
        "id": "x-KIAGlxWEw4"
      },
      "source": [
        "sns.countplot(x='WHO Region', data=df, palette=\"coolwarm\")\n",
        "plt.show()"
      ],
      "execution_count": null,
      "outputs": []
    },
    {
      "cell_type": "code",
      "metadata": {
        "id": "l62MqDR8Wq_z"
      },
      "source": [
        "sns.barplot(x='Month', y='Confirmed', data=df, palette=\"coolwarm\")\n",
        "plt.show()"
      ],
      "execution_count": null,
      "outputs": []
    },
    {
      "cell_type": "code",
      "metadata": {
        "id": "mk6rwdMyXSVP"
      },
      "source": [
        "sns.barplot(x='Day', y='Confirmed', data=df, palette=\"coolwarm\")\n",
        "plt.show()"
      ],
      "execution_count": null,
      "outputs": []
    },
    {
      "cell_type": "code",
      "metadata": {
        "id": "-WWaQlXvw1y3"
      },
      "source": [
        "sns.countplot(df['Month'], palette=\"coolwarm\")\n",
        "plt.show()"
      ],
      "execution_count": null,
      "outputs": []
    },
    {
      "cell_type": "code",
      "metadata": {
        "id": "_fy4zqvegppf"
      },
      "source": [
        "sns.pairplot(df_Africa)"
      ],
      "execution_count": null,
      "outputs": []
    },
    {
      "cell_type": "code",
      "metadata": {
        "id": "tf1p6MlINerE"
      },
      "source": [
        "sns.countplot(\n",
        "    x= 'Country/Region',\n",
        "    data= df,\n",
        "    hue='WHO Region'\n",
        ")\n",
        "\n",
        "plt.show()"
      ],
      "execution_count": null,
      "outputs": []
    },
    {
      "cell_type": "code",
      "metadata": {
        "id": "9we0n3rDZtU1"
      },
      "source": [
        "sns.countplot(\n",
        "    x= 'WHO Region',\n",
        "    data= df,\n",
        "    hue='WHO Region'\n",
        ")\n",
        "\n",
        "plt.show()"
      ],
      "execution_count": null,
      "outputs": []
    },
    {
      "cell_type": "code",
      "metadata": {
        "id": "xD0RghVaVZqP"
      },
      "source": [
        "sns.countplot(x='WHO Rregion', data=df)\n",
        "plt.show()"
      ],
      "execution_count": null,
      "outputs": []
    },
    {
      "cell_type": "code",
      "metadata": {
        "id": "zvUi3mj4-e-Q"
      },
      "source": [
        "Region_Confirmed.plot(kind='barh')"
      ],
      "execution_count": null,
      "outputs": []
    },
    {
      "cell_type": "code",
      "metadata": {
        "id": "62buk5DwDCCA"
      },
      "source": [
        "df_Africa = df.loc[df['WHO Region','Confirmed'] == ['Africa']\n",
        "df_Africa\n",
        "\n",
        "# plt.rcParams[\"figure.figsize\"] = (12, 30)\n",
        "# df_Africa.plot(kind='barh')"
      ],
      "execution_count": null,
      "outputs": []
    },
    {
      "cell_type": "code",
      "metadata": {
        "id": "AbpdxMXfgSkh"
      },
      "source": [
        "df_Africa = df.loc[df['WHO Region','Confirmed'] == ['Africa']\n",
        "df_Africa.head(100)"
      ],
      "execution_count": null,
      "outputs": []
    },
    {
      "cell_type": "markdown",
      "metadata": {
        "id": "05po6dsa9FuZ"
      },
      "source": [
        "# 가설 확인 \n",
        "지역별 생존률 컬럼을 어떻게 추가하나?"
      ]
    },
    {
      "cell_type": "code",
      "metadata": {
        "id": "W8Zv88fW1x0b"
      },
      "source": [
        ""
      ],
      "execution_count": null,
      "outputs": []
    },
    {
      "cell_type": "code",
      "metadata": {
        "id": "M5VmUyYRI5YG"
      },
      "source": [
        "sample_df = pd.pivot_table(\n",
        "    df, #사용할 데이터 프레임\n",
        "    index=\"WHO Region\",  #나라별로 보고 싶어서 선택한 인덱스 #날짜\n",
        "    values=[\"Confirmed\", \"Deaths\"],\n",
        "    aggfunc=np.max\n",
        "    ) #확진자 수   #사망자\n",
        "\n",
        "sample_df.head()"
      ],
      "execution_count": null,
      "outputs": []
    },
    {
      "cell_type": "code",
      "metadata": {
        "id": "g3AjpLrhI8rI"
      },
      "source": [
        "sample_df = sample_df.reset_index()\n",
        "sample_df.head()"
      ],
      "execution_count": null,
      "outputs": []
    },
    {
      "cell_type": "code",
      "metadata": {
        "id": "Shihpyq_J0OO"
      },
      "source": [
        "sns.barplot(x=\"WHO Region\", y=[['Confirmed', \"Deaths\"]], data=sample_df)\n",
        "\n",
        "plt.show()"
      ],
      "execution_count": null,
      "outputs": []
    },
    {
      "cell_type": "code",
      "metadata": {
        "id": "uF2aKUxhJ79F"
      },
      "source": [
        "sample_df.plot(x=\"WHO Region\", y=[\"Confirmed, Deaths\"], kind='bar')"
      ],
      "execution_count": null,
      "outputs": []
    },
    {
      "cell_type": "code",
      "metadata": {
        "id": "ZIZr8tTnLKJd"
      },
      "source": [
        ""
      ],
      "execution_count": null,
      "outputs": []
    }
  ]
}